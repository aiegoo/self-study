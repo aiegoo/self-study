{
 "cells": [
  {
   "cell_type": "markdown",
   "id": "bd42acfb",
   "metadata": {},
   "source": [
    "SkinCancerMNIST_2탄\n",
    "--"
   ]
  },
  {
   "cell_type": "markdown",
   "id": "2d5a960b",
   "metadata": {},
   "source": [
    "a large collection of multi-source dermatoscopic images of pigmented lesions\n",
    "\n",
    "https://www.kaggle.com/kmader/skin-cancer-mnist-ham10000"
   ]
  },
  {
   "cell_type": "code",
   "execution_count": 1,
   "id": "96c07614",
   "metadata": {},
   "outputs": [],
   "source": [
    "import pandas as pd\n",
    "\n",
    "ham_meta=pd.read_csv(\"C:/Users/bella/Desktop/SelfStudy/캐글/skincancer/HAM10000_metadata.csv\")\n",
    "ham_88L=pd.read_csv(\"C:/Users/bella/Desktop/SelfStudy/캐글/skincancer/hmnist_8_8_L.csv\")\n",
    "ham_88R=pd.read_csv(\"C:/Users/bella/Desktop/SelfStudy/캐글/skincancer/hmnist_8_8_RGB.csv\")\n",
    "ham_2828L=pd.read_csv(\"C:/Users/bella/Desktop/SelfStudy/캐글/skincancer/hmnist_28_28_L.csv\")\n",
    "ham_2828R=pd.read_csv(\"C:/Users/bella/Desktop/SelfStudy/캐글/skincancer/hmnist_28_28_RGB.csv\")"
   ]
  },
  {
   "cell_type": "code",
   "execution_count": 2,
   "id": "a1b5d1bb",
   "metadata": {},
   "outputs": [],
   "source": [
    "import warnings\n",
    "warnings.filterwarnings('ignore')"
   ]
  },
  {
   "cell_type": "code",
   "execution_count": 3,
   "id": "8b2ddc9e",
   "metadata": {},
   "outputs": [],
   "source": [
    "import numpy as np\n",
    "import matplotlib.pyplot as plt\n",
    "import seaborn as sns"
   ]
  },
  {
   "cell_type": "markdown",
   "id": "03f30d10",
   "metadata": {},
   "source": [
    "HAM10000_metadata"
   ]
  },
  {
   "cell_type": "code",
   "execution_count": 4,
   "id": "754417ef",
   "metadata": {},
   "outputs": [
    {
     "data": {
      "text/html": [
       "<div>\n",
       "<style scoped>\n",
       "    .dataframe tbody tr th:only-of-type {\n",
       "        vertical-align: middle;\n",
       "    }\n",
       "\n",
       "    .dataframe tbody tr th {\n",
       "        vertical-align: top;\n",
       "    }\n",
       "\n",
       "    .dataframe thead th {\n",
       "        text-align: right;\n",
       "    }\n",
       "</style>\n",
       "<table border=\"1\" class=\"dataframe\">\n",
       "  <thead>\n",
       "    <tr style=\"text-align: right;\">\n",
       "      <th></th>\n",
       "      <th>lesion_id</th>\n",
       "      <th>image_id</th>\n",
       "      <th>dx</th>\n",
       "      <th>dx_type</th>\n",
       "      <th>age</th>\n",
       "      <th>sex</th>\n",
       "      <th>localization</th>\n",
       "    </tr>\n",
       "  </thead>\n",
       "  <tbody>\n",
       "    <tr>\n",
       "      <th>0</th>\n",
       "      <td>HAM_0000118</td>\n",
       "      <td>ISIC_0027419</td>\n",
       "      <td>bkl</td>\n",
       "      <td>histo</td>\n",
       "      <td>80.0</td>\n",
       "      <td>male</td>\n",
       "      <td>scalp</td>\n",
       "    </tr>\n",
       "    <tr>\n",
       "      <th>1</th>\n",
       "      <td>HAM_0000118</td>\n",
       "      <td>ISIC_0025030</td>\n",
       "      <td>bkl</td>\n",
       "      <td>histo</td>\n",
       "      <td>80.0</td>\n",
       "      <td>male</td>\n",
       "      <td>scalp</td>\n",
       "    </tr>\n",
       "    <tr>\n",
       "      <th>2</th>\n",
       "      <td>HAM_0002730</td>\n",
       "      <td>ISIC_0026769</td>\n",
       "      <td>bkl</td>\n",
       "      <td>histo</td>\n",
       "      <td>80.0</td>\n",
       "      <td>male</td>\n",
       "      <td>scalp</td>\n",
       "    </tr>\n",
       "  </tbody>\n",
       "</table>\n",
       "</div>"
      ],
      "text/plain": [
       "     lesion_id      image_id   dx dx_type   age   sex localization\n",
       "0  HAM_0000118  ISIC_0027419  bkl   histo  80.0  male        scalp\n",
       "1  HAM_0000118  ISIC_0025030  bkl   histo  80.0  male        scalp\n",
       "2  HAM_0002730  ISIC_0026769  bkl   histo  80.0  male        scalp"
      ]
     },
     "execution_count": 4,
     "metadata": {},
     "output_type": "execute_result"
    }
   ],
   "source": [
    "ham_meta.head(3)"
   ]
  },
  {
   "cell_type": "code",
   "execution_count": 5,
   "id": "1fa5d66d",
   "metadata": {},
   "outputs": [
    {
     "data": {
      "text/plain": [
       "lesion_id        0\n",
       "image_id         0\n",
       "dx               0\n",
       "dx_type          0\n",
       "age             57\n",
       "sex              0\n",
       "localization     0\n",
       "dtype: int64"
      ]
     },
     "execution_count": 5,
     "metadata": {},
     "output_type": "execute_result"
    }
   ],
   "source": [
    "ham_meta.isna().sum()"
   ]
  },
  {
   "cell_type": "code",
   "execution_count": 6,
   "id": "ea958a35",
   "metadata": {},
   "outputs": [
    {
     "data": {
      "text/plain": [
       "47.96600234466589"
      ]
     },
     "execution_count": 6,
     "metadata": {},
     "output_type": "execute_result"
    }
   ],
   "source": [
    "ham_meta.loc[ham_meta['dx_type']=='consensus'].age.mean()"
   ]
  },
  {
   "cell_type": "code",
   "execution_count": 7,
   "id": "b6467919",
   "metadata": {},
   "outputs": [],
   "source": [
    "ham_meta['age']=ham_meta['age'].fillna(47)"
   ]
  },
  {
   "cell_type": "code",
   "execution_count": 8,
   "id": "6c88a059",
   "metadata": {},
   "outputs": [
    {
     "data": {
      "text/plain": [
       "lesion_id       0\n",
       "image_id        0\n",
       "dx              0\n",
       "dx_type         0\n",
       "age             0\n",
       "sex             0\n",
       "localization    0\n",
       "dtype: int64"
      ]
     },
     "execution_count": 8,
     "metadata": {},
     "output_type": "execute_result"
    }
   ],
   "source": [
    "ham_meta.isna().sum()"
   ]
  },
  {
   "cell_type": "markdown",
   "id": "dc4ce41d",
   "metadata": {},
   "source": [
    "hmnist_8_8_L"
   ]
  },
  {
   "cell_type": "code",
   "execution_count": 9,
   "id": "e1177f10",
   "metadata": {},
   "outputs": [
    {
     "data": {
      "text/html": [
       "<div>\n",
       "<style scoped>\n",
       "    .dataframe tbody tr th:only-of-type {\n",
       "        vertical-align: middle;\n",
       "    }\n",
       "\n",
       "    .dataframe tbody tr th {\n",
       "        vertical-align: top;\n",
       "    }\n",
       "\n",
       "    .dataframe thead th {\n",
       "        text-align: right;\n",
       "    }\n",
       "</style>\n",
       "<table border=\"1\" class=\"dataframe\">\n",
       "  <thead>\n",
       "    <tr style=\"text-align: right;\">\n",
       "      <th></th>\n",
       "      <th>pixel0000</th>\n",
       "      <th>pixel0001</th>\n",
       "      <th>pixel0002</th>\n",
       "      <th>pixel0003</th>\n",
       "      <th>pixel0004</th>\n",
       "      <th>pixel0005</th>\n",
       "      <th>pixel0006</th>\n",
       "      <th>pixel0007</th>\n",
       "      <th>pixel0008</th>\n",
       "      <th>pixel0009</th>\n",
       "      <th>...</th>\n",
       "      <th>pixel0055</th>\n",
       "      <th>pixel0056</th>\n",
       "      <th>pixel0057</th>\n",
       "      <th>pixel0058</th>\n",
       "      <th>pixel0059</th>\n",
       "      <th>pixel0060</th>\n",
       "      <th>pixel0061</th>\n",
       "      <th>pixel0062</th>\n",
       "      <th>pixel0063</th>\n",
       "      <th>label</th>\n",
       "    </tr>\n",
       "  </thead>\n",
       "  <tbody>\n",
       "    <tr>\n",
       "      <th>0</th>\n",
       "      <td>172</td>\n",
       "      <td>182</td>\n",
       "      <td>191</td>\n",
       "      <td>183</td>\n",
       "      <td>180</td>\n",
       "      <td>181</td>\n",
       "      <td>165</td>\n",
       "      <td>164</td>\n",
       "      <td>173</td>\n",
       "      <td>192</td>\n",
       "      <td>...</td>\n",
       "      <td>159</td>\n",
       "      <td>171</td>\n",
       "      <td>181</td>\n",
       "      <td>201</td>\n",
       "      <td>192</td>\n",
       "      <td>184</td>\n",
       "      <td>183</td>\n",
       "      <td>171</td>\n",
       "      <td>157</td>\n",
       "      <td>2</td>\n",
       "    </tr>\n",
       "    <tr>\n",
       "      <th>1</th>\n",
       "      <td>98</td>\n",
       "      <td>149</td>\n",
       "      <td>170</td>\n",
       "      <td>193</td>\n",
       "      <td>183</td>\n",
       "      <td>162</td>\n",
       "      <td>164</td>\n",
       "      <td>100</td>\n",
       "      <td>137</td>\n",
       "      <td>175</td>\n",
       "      <td>...</td>\n",
       "      <td>135</td>\n",
       "      <td>83</td>\n",
       "      <td>159</td>\n",
       "      <td>186</td>\n",
       "      <td>185</td>\n",
       "      <td>192</td>\n",
       "      <td>181</td>\n",
       "      <td>143</td>\n",
       "      <td>58</td>\n",
       "      <td>2</td>\n",
       "    </tr>\n",
       "    <tr>\n",
       "      <th>2</th>\n",
       "      <td>165</td>\n",
       "      <td>164</td>\n",
       "      <td>179</td>\n",
       "      <td>172</td>\n",
       "      <td>152</td>\n",
       "      <td>163</td>\n",
       "      <td>169</td>\n",
       "      <td>151</td>\n",
       "      <td>168</td>\n",
       "      <td>174</td>\n",
       "      <td>...</td>\n",
       "      <td>169</td>\n",
       "      <td>152</td>\n",
       "      <td>171</td>\n",
       "      <td>185</td>\n",
       "      <td>189</td>\n",
       "      <td>193</td>\n",
       "      <td>176</td>\n",
       "      <td>168</td>\n",
       "      <td>151</td>\n",
       "      <td>2</td>\n",
       "    </tr>\n",
       "  </tbody>\n",
       "</table>\n",
       "<p>3 rows × 65 columns</p>\n",
       "</div>"
      ],
      "text/plain": [
       "   pixel0000  pixel0001  pixel0002  pixel0003  pixel0004  pixel0005  \\\n",
       "0        172        182        191        183        180        181   \n",
       "1         98        149        170        193        183        162   \n",
       "2        165        164        179        172        152        163   \n",
       "\n",
       "   pixel0006  pixel0007  pixel0008  pixel0009  ...  pixel0055  pixel0056  \\\n",
       "0        165        164        173        192  ...        159        171   \n",
       "1        164        100        137        175  ...        135         83   \n",
       "2        169        151        168        174  ...        169        152   \n",
       "\n",
       "   pixel0057  pixel0058  pixel0059  pixel0060  pixel0061  pixel0062  \\\n",
       "0        181        201        192        184        183        171   \n",
       "1        159        186        185        192        181        143   \n",
       "2        171        185        189        193        176        168   \n",
       "\n",
       "   pixel0063  label  \n",
       "0        157      2  \n",
       "1         58      2  \n",
       "2        151      2  \n",
       "\n",
       "[3 rows x 65 columns]"
      ]
     },
     "execution_count": 9,
     "metadata": {},
     "output_type": "execute_result"
    }
   ],
   "source": [
    "ham_88L.head(3)"
   ]
  },
  {
   "cell_type": "markdown",
   "id": "f1fd4605",
   "metadata": {},
   "source": [
    "hmnist_8_8_RGB"
   ]
  },
  {
   "cell_type": "code",
   "execution_count": 10,
   "id": "3e2f1f60",
   "metadata": {},
   "outputs": [
    {
     "data": {
      "text/html": [
       "<div>\n",
       "<style scoped>\n",
       "    .dataframe tbody tr th:only-of-type {\n",
       "        vertical-align: middle;\n",
       "    }\n",
       "\n",
       "    .dataframe tbody tr th {\n",
       "        vertical-align: top;\n",
       "    }\n",
       "\n",
       "    .dataframe thead th {\n",
       "        text-align: right;\n",
       "    }\n",
       "</style>\n",
       "<table border=\"1\" class=\"dataframe\">\n",
       "  <thead>\n",
       "    <tr style=\"text-align: right;\">\n",
       "      <th></th>\n",
       "      <th>pixel0000</th>\n",
       "      <th>pixel0001</th>\n",
       "      <th>pixel0002</th>\n",
       "      <th>pixel0003</th>\n",
       "      <th>pixel0004</th>\n",
       "      <th>pixel0005</th>\n",
       "      <th>pixel0006</th>\n",
       "      <th>pixel0007</th>\n",
       "      <th>pixel0008</th>\n",
       "      <th>pixel0009</th>\n",
       "      <th>...</th>\n",
       "      <th>pixel0183</th>\n",
       "      <th>pixel0184</th>\n",
       "      <th>pixel0185</th>\n",
       "      <th>pixel0186</th>\n",
       "      <th>pixel0187</th>\n",
       "      <th>pixel0188</th>\n",
       "      <th>pixel0189</th>\n",
       "      <th>pixel0190</th>\n",
       "      <th>pixel0191</th>\n",
       "      <th>label</th>\n",
       "    </tr>\n",
       "  </thead>\n",
       "  <tbody>\n",
       "    <tr>\n",
       "      <th>0</th>\n",
       "      <td>199</td>\n",
       "      <td>156</td>\n",
       "      <td>188</td>\n",
       "      <td>210</td>\n",
       "      <td>165</td>\n",
       "      <td>198</td>\n",
       "      <td>216</td>\n",
       "      <td>176</td>\n",
       "      <td>203</td>\n",
       "      <td>215</td>\n",
       "      <td>...</td>\n",
       "      <td>214</td>\n",
       "      <td>167</td>\n",
       "      <td>191</td>\n",
       "      <td>199</td>\n",
       "      <td>157</td>\n",
       "      <td>175</td>\n",
       "      <td>184</td>\n",
       "      <td>143</td>\n",
       "      <td>167</td>\n",
       "      <td>2</td>\n",
       "    </tr>\n",
       "    <tr>\n",
       "      <th>1</th>\n",
       "      <td>115</td>\n",
       "      <td>87</td>\n",
       "      <td>115</td>\n",
       "      <td>180</td>\n",
       "      <td>133</td>\n",
       "      <td>158</td>\n",
       "      <td>200</td>\n",
       "      <td>153</td>\n",
       "      <td>187</td>\n",
       "      <td>215</td>\n",
       "      <td>...</td>\n",
       "      <td>207</td>\n",
       "      <td>167</td>\n",
       "      <td>188</td>\n",
       "      <td>177</td>\n",
       "      <td>128</td>\n",
       "      <td>138</td>\n",
       "      <td>74</td>\n",
       "      <td>51</td>\n",
       "      <td>60</td>\n",
       "      <td>2</td>\n",
       "    </tr>\n",
       "    <tr>\n",
       "      <th>2</th>\n",
       "      <td>203</td>\n",
       "      <td>146</td>\n",
       "      <td>164</td>\n",
       "      <td>209</td>\n",
       "      <td>144</td>\n",
       "      <td>153</td>\n",
       "      <td>217</td>\n",
       "      <td>160</td>\n",
       "      <td>181</td>\n",
       "      <td>215</td>\n",
       "      <td>...</td>\n",
       "      <td>211</td>\n",
       "      <td>160</td>\n",
       "      <td>175</td>\n",
       "      <td>199</td>\n",
       "      <td>152</td>\n",
       "      <td>172</td>\n",
       "      <td>177</td>\n",
       "      <td>138</td>\n",
       "      <td>158</td>\n",
       "      <td>2</td>\n",
       "    </tr>\n",
       "  </tbody>\n",
       "</table>\n",
       "<p>3 rows × 193 columns</p>\n",
       "</div>"
      ],
      "text/plain": [
       "   pixel0000  pixel0001  pixel0002  pixel0003  pixel0004  pixel0005  \\\n",
       "0        199        156        188        210        165        198   \n",
       "1        115         87        115        180        133        158   \n",
       "2        203        146        164        209        144        153   \n",
       "\n",
       "   pixel0006  pixel0007  pixel0008  pixel0009  ...  pixel0183  pixel0184  \\\n",
       "0        216        176        203        215  ...        214        167   \n",
       "1        200        153        187        215  ...        207        167   \n",
       "2        217        160        181        215  ...        211        160   \n",
       "\n",
       "   pixel0185  pixel0186  pixel0187  pixel0188  pixel0189  pixel0190  \\\n",
       "0        191        199        157        175        184        143   \n",
       "1        188        177        128        138         74         51   \n",
       "2        175        199        152        172        177        138   \n",
       "\n",
       "   pixel0191  label  \n",
       "0        167      2  \n",
       "1         60      2  \n",
       "2        158      2  \n",
       "\n",
       "[3 rows x 193 columns]"
      ]
     },
     "execution_count": 10,
     "metadata": {},
     "output_type": "execute_result"
    }
   ],
   "source": [
    "ham_88R.head(3)"
   ]
  },
  {
   "cell_type": "markdown",
   "id": "edb435cc",
   "metadata": {},
   "source": [
    "hmnist_8_8_L vs hmnist_8_8_RGB\n",
    "--"
   ]
  },
  {
   "cell_type": "code",
   "execution_count": 11,
   "id": "60e4bba0",
   "metadata": {},
   "outputs": [],
   "source": [
    "ham_88L['image']=0\n",
    "ham_88R['image']=0"
   ]
  },
  {
   "cell_type": "code",
   "execution_count": 12,
   "id": "5808692d",
   "metadata": {},
   "outputs": [
    {
     "data": {
      "text/plain": [
       "64"
      ]
     },
     "execution_count": 12,
     "metadata": {},
     "output_type": "execute_result"
    }
   ],
   "source": [
    "len(ham_88L.iloc[0, :-2])"
   ]
  },
  {
   "cell_type": "code",
   "execution_count": 13,
   "id": "2f113237",
   "metadata": {},
   "outputs": [
    {
     "data": {
      "text/plain": [
       "192"
      ]
     },
     "execution_count": 13,
     "metadata": {},
     "output_type": "execute_result"
    }
   ],
   "source": [
    "len(ham_88R.iloc[0, :-2])"
   ]
  },
  {
   "cell_type": "markdown",
   "id": "5efdd433",
   "metadata": {},
   "source": [
    "- RGB가 더 pixel이 많음"
   ]
  },
  {
   "cell_type": "markdown",
   "id": "b4b059d5",
   "metadata": {},
   "source": [
    "**ham_88L 이미지 보기**"
   ]
  },
  {
   "cell_type": "code",
   "execution_count": 14,
   "id": "c7eb0274",
   "metadata": {},
   "outputs": [
    {
     "data": {
      "text/plain": [
       "10015"
      ]
     },
     "execution_count": 14,
     "metadata": {},
     "output_type": "execute_result"
    }
   ],
   "source": [
    "len(ham_88L.iloc[:, 0])"
   ]
  },
  {
   "cell_type": "code",
   "execution_count": 15,
   "id": "91396c48",
   "metadata": {},
   "outputs": [
    {
     "data": {
      "text/plain": [
       "10015"
      ]
     },
     "execution_count": 15,
     "metadata": {},
     "output_type": "execute_result"
    }
   ],
   "source": [
    "len(ham_88R.iloc[:, 0])"
   ]
  },
  {
   "cell_type": "code",
   "execution_count": 16,
   "id": "1643a0ee",
   "metadata": {},
   "outputs": [],
   "source": [
    "for i in range(0,10015):\n",
    "    ham_88L['image'][i]=np.array(list(ham_88L.iloc[i, :-2].values), dtype=str)"
   ]
  },
  {
   "cell_type": "code",
   "execution_count": 17,
   "id": "aa5a0b53",
   "metadata": {},
   "outputs": [],
   "source": [
    "for i in range(0,10015):\n",
    "    ham_88L['image'][i]=np.array(list(ham_88L.iloc[i, :-2].values), dtype=int).reshape(8,8)"
   ]
  },
  {
   "cell_type": "code",
   "execution_count": 18,
   "id": "7f81139c",
   "metadata": {},
   "outputs": [
    {
     "data": {
      "text/plain": [
       "array([[172, 182, 191, 183, 180, 181, 165, 164],\n",
       "       [173, 192, 201, 172, 176, 188, 179, 167],\n",
       "       [178, 193, 185, 184, 172, 157, 196, 167],\n",
       "       [176, 184, 154, 176, 145, 168, 200, 172],\n",
       "       [181, 177, 186, 170, 166, 191, 175, 167],\n",
       "       [181, 183, 207, 193, 163, 170, 170, 163],\n",
       "       [176, 185, 209, 196, 165, 182, 171, 159],\n",
       "       [171, 181, 201, 192, 184, 183, 171, 157]])"
      ]
     },
     "execution_count": 18,
     "metadata": {},
     "output_type": "execute_result"
    }
   ],
   "source": [
    "ham_88L['image'][0]"
   ]
  },
  {
   "cell_type": "code",
   "execution_count": 19,
   "id": "5f456c2f",
   "metadata": {
    "scrolled": true
   },
   "outputs": [
    {
     "data": {
      "text/plain": [
       "<matplotlib.image.AxesImage at 0x1b27cd16280>"
      ]
     },
     "execution_count": 19,
     "metadata": {},
     "output_type": "execute_result"
    },
    {
     "data": {
      "image/png": "[encoded data removed]",
      "text/plain": [
       "<Figure size 432x288 with 1 Axes>"
      ]
     },
     "metadata": {
      "needs_background": "light"
     },
     "output_type": "display_data"
    }
   ],
   "source": [
    "plt.imshow(ham_88L['image'][0])"
   ]
  },
  {
   "cell_type": "markdown",
   "id": "4117cc65",
   "metadata": {},
   "source": [
    "-  8* 8이라 그런지 잘 보이지 않음"
   ]
  },
  {
   "cell_type": "markdown",
   "id": "f805ad3c",
   "metadata": {},
   "source": [
    "**ham_88_RGB 이미지 보기**"
   ]
  },
  {
   "cell_type": "code",
   "execution_count": 20,
   "id": "f71c2d3d",
   "metadata": {},
   "outputs": [],
   "source": [
    "for i in range(0,10015):\n",
    "    ham_88R['image'][i]=np.array(list(ham_88R.iloc[i, :-2].values), dtype=str)"
   ]
  },
  {
   "cell_type": "code",
   "execution_count": 21,
   "id": "31e0e481",
   "metadata": {},
   "outputs": [],
   "source": [
    "for i in range(0,10015):\n",
    "    ham_88R['image'][i]=np.array(list(ham_88R.iloc[i, :-2].values), dtype=int).reshape(8,8,3)"
   ]
  },
  {
   "cell_type": "code",
   "execution_count": 22,
   "id": "0d1a7ecc",
   "metadata": {
    "scrolled": true
   },
   "outputs": [
    {
     "data": {
      "text/plain": [
       "<matplotlib.image.AxesImage at 0x1b27cfd2040>"
      ]
     },
     "execution_count": 22,
     "metadata": {},
     "output_type": "execute_result"
    },
    {
     "data": {
      "image/png": "[encoded data removed]",
      "text/plain": [
       "<Figure size 432x288 with 1 Axes>"
      ]
     },
     "metadata": {
      "needs_background": "light"
     },
     "output_type": "display_data"
    }
   ],
   "source": [
    "plt.imshow(ham_88R['image'][0])"
   ]
  },
  {
   "cell_type": "markdown",
   "id": "1ebd077a",
   "metadata": {},
   "source": [
    "hmnist_28_28_L vs hmnist_28_28_RGB\n",
    "--"
   ]
  },
  {
   "cell_type": "markdown",
   "id": "7e2a1142",
   "metadata": {},
   "source": [
    "hmnist_28_28_L"
   ]
  },
  {
   "cell_type": "code",
   "execution_count": 23,
   "id": "d493d7d9",
   "metadata": {},
   "outputs": [],
   "source": [
    "ham_2828L['image']=0\n",
    "ham_2828R['image']=0"
   ]
  },
  {
   "cell_type": "code",
   "execution_count": 24,
   "id": "fb7122cf",
   "metadata": {},
   "outputs": [
    {
     "name": "stdout",
     "output_type": "stream",
     "text": [
      "784\n",
      "2352\n"
     ]
    }
   ],
   "source": [
    "print(len(ham_2828L.iloc[0, :-2]))\n",
    "print(len(ham_2828R.iloc[0, :-2]))"
   ]
  },
  {
   "cell_type": "code",
   "execution_count": 25,
   "id": "b541cf84",
   "metadata": {},
   "outputs": [
    {
     "name": "stdout",
     "output_type": "stream",
     "text": [
      "10015\n",
      "10015\n"
     ]
    }
   ],
   "source": [
    "print(len(ham_2828L.iloc[:, 0]))\n",
    "print(len(ham_2828R.iloc[:, 0]))"
   ]
  },
  {
   "cell_type": "code",
   "execution_count": 26,
   "id": "9d1ff0be",
   "metadata": {},
   "outputs": [],
   "source": [
    "for i in range(0,10015):\n",
    "    ham_2828L['image'][i]=np.array(list(ham_2828L.iloc[i, :-2].values), dtype=str)"
   ]
  },
  {
   "cell_type": "code",
   "execution_count": 27,
   "id": "dd751cca",
   "metadata": {},
   "outputs": [],
   "source": [
    "for i in range(0,10015):\n",
    "    ham_2828L['image'][i]=np.array(list(ham_2828L.iloc[i, :-2].values), dtype=int).reshape(28,28)"
   ]
  },
  {
   "cell_type": "code",
   "execution_count": 28,
   "id": "4bef271e",
   "metadata": {},
   "outputs": [
    {
     "data": {
      "text/plain": [
       "<matplotlib.image.AxesImage at 0x1b27d188e20>"
      ]
     },
     "execution_count": 28,
     "metadata": {},
     "output_type": "execute_result"
    },
    {
     "data": {
      "image/png": "[encoded data removed]",
      "text/plain": [
       "<Figure size 432x288 with 1 Axes>"
      ]
     },
     "metadata": {
      "needs_background": "light"
     },
     "output_type": "display_data"
    }
   ],
   "source": [
    "plt.imshow(ham_2828L['image'][0])"
   ]
  },
  {
   "cell_type": "markdown",
   "id": "7d6775ca",
   "metadata": {},
   "source": [
    "hmnist_28_28_RGB"
   ]
  },
  {
   "cell_type": "code",
   "execution_count": 29,
   "id": "24b4effa",
   "metadata": {},
   "outputs": [],
   "source": [
    "from tqdm import tqdm"
   ]
  },
  {
   "cell_type": "code",
   "execution_count": 30,
   "id": "fd967184",
   "metadata": {},
   "outputs": [
    {
     "name": "stderr",
     "output_type": "stream",
     "text": [
      "100%|██████████| 10015/10015 [01:02<00:00, 161.04it/s]\n"
     ]
    }
   ],
   "source": [
    "for i in tqdm(range(0,10015)):\n",
    "    ham_2828R['image'][i]=np.array(list(ham_2828R.iloc[i, :-2].values), dtype=str)"
   ]
  },
  {
   "cell_type": "code",
   "execution_count": 31,
   "id": "f0fc46de",
   "metadata": {},
   "outputs": [],
   "source": [
    "for i in range(0,10015):\n",
    "    ham_2828R['image'][i]=np.array(list(ham_2828R.iloc[i, :-2].values), dtype=int).reshape(28,28,3)"
   ]
  },
  {
   "cell_type": "code",
   "execution_count": 32,
   "id": "4ccbacb3",
   "metadata": {},
   "outputs": [
    {
     "data": {
      "text/plain": [
       "<matplotlib.image.AxesImage at 0x1b27d41b700>"
      ]
     },
     "execution_count": 32,
     "metadata": {},
     "output_type": "execute_result"
    },
    {
     "data": {
      "image/png": "[encoded data removed]",
      "text/plain": [
       "<Figure size 432x288 with 1 Axes>"
      ]
     },
     "metadata": {
      "needs_background": "light"
     },
     "output_type": "display_data"
    }
   ],
   "source": [
    "plt.imshow(ham_2828R['image'][0])"
   ]
  },
  {
   "cell_type": "markdown",
   "id": "3318cffc",
   "metadata": {},
   "source": [
    "- 28 $\\times$ 28이 가장 선명한 것을 볼 수 있다."
   ]
  },
  {
   "cell_type": "code",
   "execution_count": 33,
   "id": "8bfeb92f",
   "metadata": {},
   "outputs": [
    {
     "data": {
      "text/plain": [
       "nv       6705\n",
       "mel      1113\n",
       "bkl      1099\n",
       "bcc       514\n",
       "akiec     327\n",
       "vasc      142\n",
       "df        115\n",
       "Name: dx, dtype: int64"
      ]
     },
     "execution_count": 33,
     "metadata": {},
     "output_type": "execute_result"
    }
   ],
   "source": [
    "ham_meta.dx.value_counts()"
   ]
  },
  {
   "cell_type": "code",
   "execution_count": 34,
   "id": "2bcca6ba",
   "metadata": {},
   "outputs": [
    {
     "data": {
      "text/plain": [
       "4    6705\n",
       "6    1113\n",
       "2    1099\n",
       "1     514\n",
       "0     327\n",
       "5     142\n",
       "3     115\n",
       "Name: label, dtype: int64"
      ]
     },
     "execution_count": 34,
     "metadata": {},
     "output_type": "execute_result"
    }
   ],
   "source": [
    "ham_2828R.label.value_counts()"
   ]
  },
  {
   "cell_type": "code",
   "execution_count": 35,
   "id": "99e89987",
   "metadata": {},
   "outputs": [],
   "source": [
    "df_nv=ham_2828R.loc[ham_2828R['label']==4]\n",
    "df_mel=ham_2828R.loc[ham_2828R['label']==6]\n",
    "df_bkl=ham_2828R.loc[ham_2828R['label']==2]\n",
    "df_bcc=ham_2828R.loc[ham_2828R['label']==1]\n",
    "df_akiec=ham_2828R.loc[ham_2828R['label']==0]\n",
    "df_vasc=ham_2828R.loc[ham_2828R['label']==5]\n",
    "df_df=ham_2828R.loc[ham_2828R['label']==3]"
   ]
  },
  {
   "cell_type": "code",
   "execution_count": 36,
   "id": "3acd6bc2",
   "metadata": {},
   "outputs": [],
   "source": [
    "df_nv=df_nv.reset_index()\n",
    "df_mel=df_mel.reset_index()\n",
    "df_bkl=df_bkl.reset_index()\n",
    "df_bcc=df_bcc.reset_index()\n",
    "df_akiec=df_akiec.reset_index()\n",
    "df_vasc=df_vasc.reset_index()\n",
    "df_df=df_df.reset_index()\n",
    "\n",
    "df_nv.drop('index', axis=1, inplace=True)\n",
    "df_mel.drop('index', axis=1, inplace=True)\n",
    "df_bkl.drop('index', axis=1, inplace=True)\n",
    "df_bcc.drop('index', axis=1, inplace=True)\n",
    "df_akiec.drop('index', axis=1, inplace=True)\n",
    "df_vasc.drop('index', axis=1, inplace=True)\n",
    "df_df.drop('index', axis=1, inplace=True)"
   ]
  },
  {
   "cell_type": "code",
   "execution_count": 37,
   "id": "d5bced11",
   "metadata": {},
   "outputs": [],
   "source": [
    "df_sample=pd.DataFrame(columns={'type','image'})"
   ]
  },
  {
   "cell_type": "code",
   "execution_count": 38,
   "id": "02b1d010",
   "metadata": {},
   "outputs": [],
   "source": [
    "df_sample=df_sample.append({'type':'nv'}, ignore_index=True)\n",
    "df_sample=df_sample.append({'type':'mel'}, ignore_index=True)\n",
    "df_sample=df_sample.append({'type':'bkl'}, ignore_index=True)\n",
    "df_sample=df_sample.append({'type':'bcc'}, ignore_index=True)\n",
    "df_sample=df_sample.append({'type':'akiec'}, ignore_index=True)\n",
    "df_sample=df_sample.append({'type':'vasc'}, ignore_index=True)\n",
    "df_sample=df_sample.append({'type':'df'}, ignore_index=True)"
   ]
  },
  {
   "cell_type": "code",
   "execution_count": 39,
   "id": "a3ee642b",
   "metadata": {},
   "outputs": [],
   "source": [
    "df_sample['image'][0]=df_nv['image'][0]\n",
    "df_sample['image'][1]=df_mel['image'][0]\n",
    "df_sample['image'][2]=df_bkl['image'][0]\n",
    "df_sample['image'][3]=df_bcc['image'][0]\n",
    "df_sample['image'][4]=df_akiec['image'][0]\n",
    "df_sample['image'][5]=df_vasc['image'][0]\n",
    "df_sample['image'][6]=df_df['image'][0]"
   ]
  },
  {
   "cell_type": "code",
   "execution_count": 40,
   "id": "fa2d4c4b",
   "metadata": {},
   "outputs": [
    {
     "name": "stdout",
     "output_type": "stream",
     "text": [
      "nv\n"
     ]
    },
    {
     "data": {
      "image/png": "[encoded data removed]",
      "text/plain": [
       "<Figure size 432x288 with 1 Axes>"
      ]
     },
     "metadata": {
      "needs_background": "light"
     },
     "output_type": "display_data"
    },
    {
     "name": "stdout",
     "output_type": "stream",
     "text": [
      "mel\n"
     ]
    },
    {
     "data": {
      "image/png": "[encoded data removed]",
      "text/plain": [
       "<Figure size 432x288 with 1 Axes>"
      ]
     },
     "metadata": {
      "needs_background": "light"
     },
     "output_type": "display_data"
    },
    {
     "name": "stdout",
     "output_type": "stream",
     "text": [
      "bkl\n"
     ]
    },
    {
     "data": {
      "image/png": "[encoded data removed]",
      "text/plain": [
       "<Figure size 432x288 with 1 Axes>"
      ]
     },
     "metadata": {
      "needs_background": "light"
     },
     "output_type": "display_data"
    },
    {
     "name": "stdout",
     "output_type": "stream",
     "text": [
      "bcc\n"
     ]
    },
    {
     "data": {
      "image/png": "[encoded data removed]",
      "text/plain": [
       "<Figure size 432x288 with 1 Axes>"
      ]
     },
     "metadata": {
      "needs_background": "light"
     },
     "output_type": "display_data"
    },
    {
     "name": "stdout",
     "output_type": "stream",
     "text": [
      "akiec\n"
     ]
    },
    {
     "data": {
      "image/png": "[encoded data removed]",
      "text/plain": [
       "<Figure size 432x288 with 1 Axes>"
      ]
     },
     "metadata": {
      "needs_background": "light"
     },
     "output_type": "display_data"
    },
    {
     "name": "stdout",
     "output_type": "stream",
     "text": [
      "vasc\n"
     ]
    },
    {
     "data": {
      "image/png": "[encoded data removed]",
      "text/plain": [
       "<Figure size 432x288 with 1 Axes>"
      ]
     },
     "metadata": {
      "needs_background": "light"
     },
     "output_type": "display_data"
    }
   ],
   "source": [
    "for i in range(0,6):\n",
    "    print(df_sample['type'][i])\n",
    "    plt.imshow(df_sample['image'][i])\n",
    "    plt.show()"
   ]
  },
  {
   "cell_type": "markdown",
   "id": "6c3a0155",
   "metadata": {},
   "source": [
    "데이터 전처리\n",
    "--"
   ]
  },
  {
   "cell_type": "code",
   "execution_count": 41,
   "id": "f8e1e0f9",
   "metadata": {},
   "outputs": [],
   "source": [
    "import tensorflow as tf\n",
    "import keras\n",
    "from sklearn.model_selection import train_test_split\n",
    "from tensorflow.keras.utils import to_categorical"
   ]
  },
  {
   "cell_type": "code",
   "execution_count": 42,
   "id": "f801a8c2",
   "metadata": {},
   "outputs": [],
   "source": [
    "y=to_categorical(ham_2828R['label'], num_classes=7)"
   ]
  },
  {
   "cell_type": "code",
   "execution_count": 43,
   "id": "ac52c49e",
   "metadata": {},
   "outputs": [
    {
     "data": {
      "text/plain": [
       "array([[0., 0., 1., ..., 0., 0., 0.],\n",
       "       [0., 0., 1., ..., 0., 0., 0.],\n",
       "       [0., 0., 1., ..., 0., 0., 0.],\n",
       "       ...,\n",
       "       [1., 0., 0., ..., 0., 0., 0.],\n",
       "       [1., 0., 0., ..., 0., 0., 0.],\n",
       "       [0., 0., 0., ..., 0., 0., 1.]], dtype=float32)"
      ]
     },
     "execution_count": 43,
     "metadata": {},
     "output_type": "execute_result"
    }
   ],
   "source": [
    "y"
   ]
  },
  {
   "cell_type": "code",
   "execution_count": 44,
   "id": "6839978e",
   "metadata": {},
   "outputs": [],
   "source": [
    "x=ham_2828R['image'].to_numpy()"
   ]
  },
  {
   "cell_type": "code",
   "execution_count": 45,
   "id": "50834a6b",
   "metadata": {},
   "outputs": [
    {
     "data": {
      "text/plain": [
       "(10015,)"
      ]
     },
     "execution_count": 45,
     "metadata": {},
     "output_type": "execute_result"
    }
   ],
   "source": [
    "x.shape"
   ]
  },
  {
   "cell_type": "code",
   "execution_count": 46,
   "id": "5180799f",
   "metadata": {},
   "outputs": [],
   "source": [
    "x_train, x_test, y_train, y_test=train_test_split(x,y,test_size=0.2, random_state=0)"
   ]
  },
  {
   "cell_type": "code",
   "execution_count": 47,
   "id": "83aaf58e",
   "metadata": {},
   "outputs": [
    {
     "name": "stdout",
     "output_type": "stream",
     "text": [
      "(8012,)\n",
      "(8012, 7)\n",
      "(2003,)\n",
      "(2003, 7)\n"
     ]
    }
   ],
   "source": [
    "print(x_train.shape)\n",
    "print(y_train.shape)\n",
    "print(x_test.shape)\n",
    "print(y_test.shape)"
   ]
  },
  {
   "cell_type": "code",
   "execution_count": 48,
   "id": "1377ca41",
   "metadata": {},
   "outputs": [
    {
     "data": {
      "text/plain": [
       "(28, 3)"
      ]
     },
     "execution_count": 48,
     "metadata": {},
     "output_type": "execute_result"
    }
   ],
   "source": [
    "x_train[0][0].shape"
   ]
  },
  {
   "cell_type": "code",
   "execution_count": 49,
   "id": "94e92b37",
   "metadata": {},
   "outputs": [],
   "source": [
    "x_train=np.stack(x_train, axis=0)\n",
    "x_test=np.stack(x_test, axis=0)"
   ]
  },
  {
   "cell_type": "code",
   "execution_count": 50,
   "id": "7db5efc5",
   "metadata": {},
   "outputs": [
    {
     "name": "stdout",
     "output_type": "stream",
     "text": [
      "(8012, 28, 28, 3)\n",
      "(8012, 7)\n",
      "(2003, 28, 28, 3)\n",
      "(2003, 7)\n"
     ]
    }
   ],
   "source": [
    "print(x_train.shape)\n",
    "print(y_train.shape)\n",
    "print(x_test.shape)\n",
    "print(y_test.shape)"
   ]
  },
  {
   "cell_type": "code",
   "execution_count": 51,
   "id": "6163a360",
   "metadata": {},
   "outputs": [],
   "source": [
    "x_train = np.reshape(x_train / 255, (-1, 28, 28, 3))\n",
    "x_test = np.reshape(x_test / 255, (-1, 28, 28, 3))"
   ]
  },
  {
   "cell_type": "code",
   "execution_count": 112,
   "id": "d0119394",
   "metadata": {},
   "outputs": [],
   "source": [
    "from keras.utils import np_utils\n",
    "from keras.models import Sequential\n",
    "from keras.layers import Dense, Dropout, Flatten, Conv2D, MaxPooling2D\n",
    "from keras.callbacks import ModelCheckpoint, EarlyStopping\n",
    "import os"
   ]
  },
  {
   "cell_type": "code",
   "execution_count": 113,
   "id": "c47ebe59",
   "metadata": {},
   "outputs": [],
   "source": [
    "from keras import layers, models\n",
    "from keras import optimizers\n",
    "from keras.layers import BatchNormalization\n",
    "from tensorflow.keras.optimizers import SGD, Adam"
   ]
  },
  {
   "cell_type": "code",
   "execution_count": 114,
   "id": "60b90944",
   "metadata": {},
   "outputs": [],
   "source": [
    "from keras import regularizers, optimizers\n",
    "from tensorflow.keras import optimizers"
   ]
  },
  {
   "cell_type": "code",
   "execution_count": 115,
   "id": "9e1d214f",
   "metadata": {},
   "outputs": [],
   "source": [
    "seed=0\n",
    "np.random.seed(seed)\n",
    "tf.random.set_seed(seed)"
   ]
  },
  {
   "cell_type": "markdown",
   "id": "9c5b4fa7",
   "metadata": {},
   "source": [
    "Modeling\n",
    "--"
   ]
  },
  {
   "cell_type": "code",
   "execution_count": 151,
   "id": "f4e71f10",
   "metadata": {},
   "outputs": [],
   "source": [
    "model = Sequential()\n",
    "model.add(Conv2D(input_shape=(28,28,3),filters=32,kernel_size=(3,3),padding=\"same\", activation=\"relu\"))\n",
    "\n",
    "#####\n",
    "model.add(BatchNormalization())\n",
    "model.add(Conv2D(filters=32,kernel_size=(3,3),padding=\"same\", activation=\"relu\"))\n",
    "model.add(MaxPooling2D(pool_size=(2,2),strides=(2,2)))\n",
    "model.add(Dropout(0.2))\n",
    "#####\n",
    "\n",
    "#####\n",
    "model.add(BatchNormalization())\n",
    "model.add(Conv2D(filters=64, kernel_size=(3,3), padding=\"same\", activation=\"relu\"))\n",
    "model.add(BatchNormalization())\n",
    "model.add(Conv2D(filters=64, kernel_size=(3,3), padding=\"same\", activation=\"relu\"))\n",
    "model.add(MaxPooling2D(pool_size=(2,2),strides=(2,2)))\n",
    "model.add(Dropout(0.3))\n",
    "#####\n",
    "\n",
    "model.add(BatchNormalization())\n",
    "model.add(Conv2D(filters=128, kernel_size=(3,3), padding=\"same\", activation=\"relu\"))\n",
    "model.add(BatchNormalization())\n",
    "model.add(Conv2D(filters=128, kernel_size=(3,3), padding=\"same\", activation=\"relu\"))\n",
    "model.add(BatchNormalization())\n",
    "model.add(Conv2D(filters=128, kernel_size=(3,3), padding=\"same\", activation=\"relu\"))\n",
    "model.add(BatchNormalization())\n",
    "model.add(Conv2D(filters=128, kernel_size=(3,3), padding=\"same\", activation=\"relu\"))\n",
    "model.add(MaxPooling2D(pool_size=(2,2),strides=(2,2)))\n",
    "model.add(Dropout(0.4))\n",
    "\n",
    "#####\n",
    "model.add(BatchNormalization())\n",
    "model.add(Conv2D(filters=256, kernel_size=(3,3), padding=\"same\", activation=\"relu\"))\n",
    "model.add(BatchNormalization())\n",
    "model.add(Conv2D(filters=256, kernel_size=(3,3), padding=\"same\", activation=\"relu\"))\n",
    "model.add(BatchNormalization())\n",
    "model.add(Conv2D(filters=256, kernel_size=(3,3), padding=\"same\", activation=\"relu\"))\n",
    "model.add(BatchNormalization())\n",
    "model.add(Conv2D(filters=256, kernel_size=(3,3), padding=\"same\", activation=\"relu\"))\n",
    "model.add(MaxPooling2D(pool_size=(2,2),strides=(2,2)))\n",
    "model.add(Dropout(0.5))\n",
    "\n",
    "\n",
    "model.add(Flatten())\n",
    "\n",
    "model.add(Dense(units=512,activation=\"relu\"))\n",
    "model.add(BatchNormalization())\n",
    "model.add(Dense(7, activation='softmax'))\n",
    "\n",
    "#opt=SGD(lr=0.1, momentum=0.9)\n",
    "\n",
    "model.compile(loss='categorical_crossentropy', optimizer=tf.optimizers.Adam(learning_rate=1e-4), metrics=['acc'])"
   ]
  },
  {
   "cell_type": "code",
   "execution_count": 152,
   "id": "f47a7378",
   "metadata": {},
   "outputs": [
    {
     "name": "stdout",
     "output_type": "stream",
     "text": [
      "Model: \"sequential_7\"\n",
      "_________________________________________________________________\n",
      "Layer (type)                 Output Shape              Param #   \n",
      "=================================================================\n",
      "conv2d_78 (Conv2D)           (None, 28, 28, 32)        896       \n",
      "_________________________________________________________________\n",
      "batch_normalization_70 (Batc (None, 28, 28, 32)        128       \n",
      "_________________________________________________________________\n",
      "conv2d_79 (Conv2D)           (None, 28, 28, 32)        9248      \n",
      "_________________________________________________________________\n",
      "max_pooling2d_27 (MaxPooling (None, 14, 14, 32)        0         \n",
      "_________________________________________________________________\n",
      "dropout_21 (Dropout)         (None, 14, 14, 32)        0         \n",
      "_________________________________________________________________\n",
      "batch_normalization_71 (Batc (None, 14, 14, 32)        128       \n",
      "_________________________________________________________________\n",
      "conv2d_80 (Conv2D)           (None, 14, 14, 64)        18496     \n",
      "_________________________________________________________________\n",
      "batch_normalization_72 (Batc (None, 14, 14, 64)        256       \n",
      "_________________________________________________________________\n",
      "conv2d_81 (Conv2D)           (None, 14, 14, 64)        36928     \n",
      "_________________________________________________________________\n",
      "max_pooling2d_28 (MaxPooling (None, 7, 7, 64)          0         \n",
      "_________________________________________________________________\n",
      "dropout_22 (Dropout)         (None, 7, 7, 64)          0         \n",
      "_________________________________________________________________\n",
      "batch_normalization_73 (Batc (None, 7, 7, 64)          256       \n",
      "_________________________________________________________________\n",
      "conv2d_82 (Conv2D)           (None, 7, 7, 128)         73856     \n",
      "_________________________________________________________________\n",
      "batch_normalization_74 (Batc (None, 7, 7, 128)         512       \n",
      "_________________________________________________________________\n",
      "conv2d_83 (Conv2D)           (None, 7, 7, 128)         147584    \n",
      "_________________________________________________________________\n",
      "batch_normalization_75 (Batc (None, 7, 7, 128)         512       \n",
      "_________________________________________________________________\n",
      "conv2d_84 (Conv2D)           (None, 7, 7, 128)         147584    \n",
      "_________________________________________________________________\n",
      "batch_normalization_76 (Batc (None, 7, 7, 128)         512       \n",
      "_________________________________________________________________\n",
      "conv2d_85 (Conv2D)           (None, 7, 7, 128)         147584    \n",
      "_________________________________________________________________\n",
      "max_pooling2d_29 (MaxPooling (None, 3, 3, 128)         0         \n",
      "_________________________________________________________________\n",
      "dropout_23 (Dropout)         (None, 3, 3, 128)         0         \n",
      "_________________________________________________________________\n",
      "batch_normalization_77 (Batc (None, 3, 3, 128)         512       \n",
      "_________________________________________________________________\n",
      "conv2d_86 (Conv2D)           (None, 3, 3, 256)         295168    \n",
      "_________________________________________________________________\n",
      "batch_normalization_78 (Batc (None, 3, 3, 256)         1024      \n",
      "_________________________________________________________________\n",
      "conv2d_87 (Conv2D)           (None, 3, 3, 256)         590080    \n",
      "_________________________________________________________________\n",
      "batch_normalization_79 (Batc (None, 3, 3, 256)         1024      \n",
      "_________________________________________________________________\n",
      "conv2d_88 (Conv2D)           (None, 3, 3, 256)         590080    \n",
      "_________________________________________________________________\n",
      "batch_normalization_80 (Batc (None, 3, 3, 256)         1024      \n",
      "_________________________________________________________________\n",
      "conv2d_89 (Conv2D)           (None, 3, 3, 256)         590080    \n",
      "_________________________________________________________________\n",
      "max_pooling2d_30 (MaxPooling (None, 1, 1, 256)         0         \n",
      "_________________________________________________________________\n",
      "dropout_24 (Dropout)         (None, 1, 1, 256)         0         \n",
      "_________________________________________________________________\n",
      "flatten_4 (Flatten)          (None, 256)               0         \n",
      "_________________________________________________________________\n",
      "dense_10 (Dense)             (None, 512)               131584    \n",
      "_________________________________________________________________\n",
      "batch_normalization_81 (Batc (None, 512)               2048      \n",
      "_________________________________________________________________\n",
      "dense_11 (Dense)             (None, 7)                 3591      \n",
      "=================================================================\n",
      "Total params: 2,790,695\n",
      "Trainable params: 2,786,727\n",
      "Non-trainable params: 3,968\n",
      "_________________________________________________________________\n"
     ]
    }
   ],
   "source": [
    "model.summary()"
   ]
  },
  {
   "cell_type": "code",
   "execution_count": 153,
   "id": "a30494a0",
   "metadata": {},
   "outputs": [],
   "source": [
    "MODEL_DIR='C:/Users/bella/Desktop/SelfStudy/캐글/skincancer/model/'\n",
    "if not os.path.exists(MODEL_DIR):\n",
    "    os.mkdir(MODEL_DIR)\n",
    "\n",
    "modelpath=\"C:/Users/bella/Desktop/SelfStudy/캐글/skincancer/model/{epoch:02d}-{val_loss:.4f}.hdf5\"\n",
    "checkpointer=ModelCheckpoint(filepath=modelpath, monitor='val_loss', verbose=1, save_best_only=True)\n",
    "early_stopping_callback=EarlyStopping(monitor='val_loss',patience=5) "
   ]
  },
  {
   "cell_type": "code",
   "execution_count": 154,
   "id": "4be2ab8b",
   "metadata": {},
   "outputs": [
    {
     "name": "stdout",
     "output_type": "stream",
     "text": [
      "Epoch 1/30\n",
      "802/802 [==============================] - ETA: 0s - loss: 1.7821 - acc: 0.4021\n",
      "Epoch 00001: val_loss improved from inf to 2.05047, saving model to C:/Users/bella/Desktop/SelfStudy/캐글/skincancer/model\\01-2.0505.hdf5\n",
      "802/802 [==============================] - 125s 156ms/step - loss: 1.7821 - acc: 0.4021 - val_loss: 2.0505 - val_acc: 0.2182\n",
      "Epoch 2/30\n",
      "802/802 [==============================] - ETA: 0s - loss: 1.1374 - acc: 0.6209\n",
      "Epoch 00002: val_loss improved from 2.05047 to 1.39304, saving model to C:/Users/bella/Desktop/SelfStudy/캐글/skincancer/model\\02-1.3930.hdf5\n",
      "802/802 [==============================] - 124s 155ms/step - loss: 1.1374 - acc: 0.6209 - val_loss: 1.3930 - val_acc: 0.4683\n",
      "Epoch 3/30\n",
      "802/802 [==============================] - ETA: 0s - loss: 1.0150 - acc: 0.6528\n",
      "Epoch 00003: val_loss improved from 1.39304 to 1.22981, saving model to C:/Users/bella/Desktop/SelfStudy/캐글/skincancer/model\\03-1.2298.hdf5\n",
      "802/802 [==============================] - 126s 157ms/step - loss: 1.0150 - acc: 0.6528 - val_loss: 1.2298 - val_acc: 0.5337\n",
      "Epoch 4/30\n",
      "802/802 [==============================] - ETA: 0s - loss: 0.9721 - acc: 0.6586\n",
      "Epoch 00004: val_loss improved from 1.22981 to 1.05163, saving model to C:/Users/bella/Desktop/SelfStudy/캐글/skincancer/model\\04-1.0516.hdf5\n",
      "802/802 [==============================] - 125s 156ms/step - loss: 0.9721 - acc: 0.6586 - val_loss: 1.0516 - val_acc: 0.5981\n",
      "Epoch 5/30\n",
      "802/802 [==============================] - ETA: 0s - loss: 0.9461 - acc: 0.6667\n",
      "Epoch 00005: val_loss improved from 1.05163 to 0.91609, saving model to C:/Users/bella/Desktop/SelfStudy/캐글/skincancer/model\\05-0.9161.hdf5\n",
      "802/802 [==============================] - 125s 155ms/step - loss: 0.9461 - acc: 0.6667 - val_loss: 0.9161 - val_acc: 0.6630\n",
      "Epoch 6/30\n",
      "802/802 [==============================] - ETA: 0s - loss: 0.9267 - acc: 0.6694\n",
      "Epoch 00006: val_loss did not improve from 0.91609\n",
      "802/802 [==============================] - 124s 154ms/step - loss: 0.9267 - acc: 0.6694 - val_loss: 1.0526 - val_acc: 0.6041\n",
      "Epoch 7/30\n",
      "802/802 [==============================] - ETA: 0s - loss: 0.9254 - acc: 0.6761\n",
      "Epoch 00007: val_loss improved from 0.91609 to 0.91270, saving model to C:/Users/bella/Desktop/SelfStudy/캐글/skincancer/model\\07-0.9127.hdf5\n",
      "802/802 [==============================] - 125s 156ms/step - loss: 0.9254 - acc: 0.6761 - val_loss: 0.9127 - val_acc: 0.6705\n",
      "Epoch 8/30\n",
      "802/802 [==============================] - ETA: 0s - loss: 0.8968 - acc: 0.6802\n",
      "Epoch 00008: val_loss improved from 0.91270 to 0.83553, saving model to C:/Users/bella/Desktop/SelfStudy/캐글/skincancer/model\\08-0.8355.hdf5\n",
      "802/802 [==============================] - 124s 155ms/step - loss: 0.8968 - acc: 0.6802 - val_loss: 0.8355 - val_acc: 0.6945\n",
      "Epoch 9/30\n",
      "802/802 [==============================] - ETA: 0s - loss: 0.8895 - acc: 0.6795\n",
      "Epoch 00009: val_loss improved from 0.83553 to 0.83531, saving model to C:/Users/bella/Desktop/SelfStudy/캐글/skincancer/model\\09-0.8353.hdf5\n",
      "802/802 [==============================] - 125s 156ms/step - loss: 0.8895 - acc: 0.6795 - val_loss: 0.8353 - val_acc: 0.6900\n",
      "Epoch 10/30\n",
      "802/802 [==============================] - ETA: 0s - loss: 0.8713 - acc: 0.6911\n",
      "Epoch 00010: val_loss did not improve from 0.83531\n",
      "802/802 [==============================] - 126s 158ms/step - loss: 0.8713 - acc: 0.6911 - val_loss: 0.8553 - val_acc: 0.6765\n",
      "Epoch 11/30\n",
      "802/802 [==============================] - ETA: 0s - loss: 0.8540 - acc: 0.6968\n",
      "Epoch 00011: val_loss did not improve from 0.83531\n",
      "802/802 [==============================] - 127s 158ms/step - loss: 0.8540 - acc: 0.6968 - val_loss: 0.8605 - val_acc: 0.6750\n",
      "Epoch 12/30\n",
      "802/802 [==============================] - ETA: 0s - loss: 0.8339 - acc: 0.6982\n",
      "Epoch 00012: val_loss improved from 0.83531 to 0.78737, saving model to C:/Users/bella/Desktop/SelfStudy/캐글/skincancer/model\\12-0.7874.hdf5\n",
      "802/802 [==============================] - 126s 157ms/step - loss: 0.8339 - acc: 0.6982 - val_loss: 0.7874 - val_acc: 0.7114\n",
      "Epoch 13/30\n",
      "802/802 [==============================] - ETA: 0s - loss: 0.8245 - acc: 0.7011\n",
      "Epoch 00013: val_loss did not improve from 0.78737\n",
      "802/802 [==============================] - 126s 157ms/step - loss: 0.8245 - acc: 0.7011 - val_loss: 0.8296 - val_acc: 0.6990\n",
      "Epoch 14/30\n",
      "802/802 [==============================] - ETA: 0s - loss: 0.8036 - acc: 0.7086\n",
      "Epoch 00014: val_loss improved from 0.78737 to 0.73560, saving model to C:/Users/bella/Desktop/SelfStudy/캐글/skincancer/model\\14-0.7356.hdf5\n",
      "802/802 [==============================] - 127s 158ms/step - loss: 0.8036 - acc: 0.7086 - val_loss: 0.7356 - val_acc: 0.7259\n",
      "Epoch 15/30\n",
      "802/802 [==============================] - ETA: 0s - loss: 0.7912 - acc: 0.7123\n",
      "Epoch 00015: val_loss improved from 0.73560 to 0.71978, saving model to C:/Users/bella/Desktop/SelfStudy/캐글/skincancer/model\\15-0.7198.hdf5\n",
      "802/802 [==============================] - 127s 159ms/step - loss: 0.7912 - acc: 0.7123 - val_loss: 0.7198 - val_acc: 0.7314\n",
      "Epoch 16/30\n",
      "802/802 [==============================] - ETA: 0s - loss: 0.7723 - acc: 0.7174\n",
      "Epoch 00016: val_loss did not improve from 0.71978\n",
      "802/802 [==============================] - 126s 157ms/step - loss: 0.7723 - acc: 0.7174 - val_loss: 0.7319 - val_acc: 0.7304\n",
      "Epoch 17/30\n",
      "802/802 [==============================] - ETA: 0s - loss: 0.7727 - acc: 0.7253\n",
      "Epoch 00017: val_loss did not improve from 0.71978\n",
      "802/802 [==============================] - 125s 156ms/step - loss: 0.7727 - acc: 0.7253 - val_loss: 0.8363 - val_acc: 0.6990\n",
      "Epoch 18/30\n",
      "802/802 [==============================] - ETA: 0s - loss: 0.7569 - acc: 0.7297\n",
      "Epoch 00018: val_loss did not improve from 0.71978\n",
      "802/802 [==============================] - 124s 155ms/step - loss: 0.7569 - acc: 0.7297 - val_loss: 0.7516 - val_acc: 0.7159\n",
      "Epoch 19/30\n",
      "802/802 [==============================] - ETA: 0s - loss: 0.7494 - acc: 0.7320\n",
      "Epoch 00019: val_loss did not improve from 0.71978\n",
      "802/802 [==============================] - 125s 156ms/step - loss: 0.7494 - acc: 0.7320 - val_loss: 0.7502 - val_acc: 0.7279\n",
      "Epoch 20/30\n",
      "802/802 [==============================] - ETA: 0s - loss: 0.7376 - acc: 0.7328\n",
      "Epoch 00020: val_loss did not improve from 0.71978\n",
      "802/802 [==============================] - 124s 155ms/step - loss: 0.7376 - acc: 0.7328 - val_loss: 0.7496 - val_acc: 0.7379\n",
      "Wall time: 41min 50s\n"
     ]
    }
   ],
   "source": [
    "%%time\n",
    "history=model.fit(x_train, y_train, batch_size=10, epochs=30, validation_data=(x_test,y_test), callbacks=[early_stopping_callback, checkpointer])"
   ]
  },
  {
   "cell_type": "code",
   "execution_count": 155,
   "id": "2014cde6",
   "metadata": {},
   "outputs": [
    {
     "data": {
      "text/plain": [
       "dict_keys(['loss', 'acc', 'val_loss', 'val_acc'])"
      ]
     },
     "execution_count": 155,
     "metadata": {},
     "output_type": "execute_result"
    }
   ],
   "source": [
    "history.history.keys()"
   ]
  },
  {
   "cell_type": "code",
   "execution_count": 156,
   "id": "91ba1cb6",
   "metadata": {},
   "outputs": [
    {
     "name": "stdout",
     "output_type": "stream",
     "text": [
      "251/251 [==============================] - 11s 42ms/step - loss: 0.6909 - acc: 0.7483\n",
      "\n",
      " Train Accuracy 0.7483\n"
     ]
    }
   ],
   "source": [
    "print(\"\\n Train Accuracy %.4f\"%(model.evaluate(x_train, y_train)[1]))"
   ]
  },
  {
   "cell_type": "code",
   "execution_count": 157,
   "id": "677017eb",
   "metadata": {},
   "outputs": [
    {
     "name": "stdout",
     "output_type": "stream",
     "text": [
      "63/63 [==============================] - 3s 41ms/step - loss: 0.7496 - acc: 0.7379\n",
      "\n",
      " Test Accuracy 0.7379\n"
     ]
    }
   ],
   "source": [
    "print(\"\\n Test Accuracy %.4f\"%(model.evaluate(x_test, y_test)[1]))"
   ]
  },
  {
   "cell_type": "code",
   "execution_count": 158,
   "id": "06b5e768",
   "metadata": {},
   "outputs": [
    {
     "data": {
      "image/png": "[encoded data removed]",
      "text/plain": [
       "<Figure size 720x360 with 2 Axes>"
      ]
     },
     "metadata": {
      "needs_background": "light"
     },
     "output_type": "display_data"
    }
   ],
   "source": [
    "his_dict = history.history\n",
    "loss = his_dict['loss']\n",
    "val_loss = his_dict['val_loss'] # 검증 데이터가 있는 경우 val_ 수식어가 붙는다.\n",
    "\n",
    "epochs = range(1,len(loss)+1 )\n",
    "fig = plt.figure(figsize= (10,5) )\n",
    "\n",
    "# 학습 및 검증 손실 그리기\n",
    "\n",
    "ax1 = fig.add_subplot(1,2,1)\n",
    "ax1.plot(epochs, loss, color = 'blue', label = 'train_loss')\n",
    "ax1.plot(epochs, val_loss, color = 'orange', label = 'val_loss')\n",
    "ax1.set_title('train and val loss')\n",
    "ax1.set_xlabel('epochs')\n",
    "ax1.set_ylabel('loss')\n",
    "ax1.legend()\n",
    "\n",
    "acc = his_dict['acc']\n",
    "val_acc = his_dict['val_acc']\n",
    "\n",
    "# 학습 및 검증 정확도 그리기\n",
    "ax2 = fig.add_subplot(1,2,2)\n",
    "ax2.plot(epochs, acc, color = 'blue', label = 'acc')\n",
    "ax2.plot(epochs, val_acc, color = 'orange', label = 'val_acc')\n",
    "ax2.set_title('train and val acc')\n",
    "ax2.set_xlabel('epochs')\n",
    "ax2.set_ylabel('loss')\n",
    "ax2.legend()\n",
    "\n",
    "plt.show()"
   ]
  },
  {
   "cell_type": "code",
   "execution_count": 159,
   "id": "cee53bb6",
   "metadata": {},
   "outputs": [],
   "source": [
    "model.save('model_1.h5')"
   ]
  },
  {
   "cell_type": "code",
   "execution_count": 160,
   "id": "404e01e8",
   "metadata": {},
   "outputs": [],
   "source": [
    "y_pred=model.predict(x_test)"
   ]
  },
  {
   "cell_type": "code",
   "execution_count": 162,
   "id": "6451948b",
   "metadata": {},
   "outputs": [],
   "source": [
    "model_acc=model.evaluate(x_test, y_test, verbose=0)[1]\n",
    "y_pred=np.array(list(map(lambda x:np.argmax(x), y_pred)))"
   ]
  },
  {
   "cell_type": "code",
   "execution_count": 117,
   "id": "293bfc42",
   "metadata": {},
   "outputs": [],
   "source": [
    "label_mapping={ 4:'nv', 6:'mel', 2:'bkl', 1:'bcc', 0:'akiec', 5:'vasc', 3:'df' }"
   ]
  },
  {
   "cell_type": "code",
   "execution_count": 116,
   "id": "0c3cbce1",
   "metadata": {},
   "outputs": [],
   "source": [
    "from sklearn.metrics import classification_report\n",
    "from sklearn.metrics import multilabel_confusion_matrix"
   ]
  },
  {
   "cell_type": "code",
   "execution_count": 175,
   "id": "74ced7a3",
   "metadata": {},
   "outputs": [
    {
     "data": {
      "text/plain": [
       "(2003, 7)"
      ]
     },
     "execution_count": 175,
     "metadata": {},
     "output_type": "execute_result"
    }
   ],
   "source": [
    "y_test.shape"
   ]
  },
  {
   "cell_type": "code",
   "execution_count": 187,
   "id": "bc4e514b",
   "metadata": {},
   "outputs": [],
   "source": [
    "y_test_1=pd.DataFrame(y_test)"
   ]
  },
  {
   "cell_type": "code",
   "execution_count": 192,
   "id": "b09ae764",
   "metadata": {},
   "outputs": [],
   "source": [
    "y_test_1['answer']=0"
   ]
  },
  {
   "cell_type": "code",
   "execution_count": 193,
   "id": "0c57a771",
   "metadata": {},
   "outputs": [
    {
     "data": {
      "text/html": [
       "<div>\n",
       "<style scoped>\n",
       "    .dataframe tbody tr th:only-of-type {\n",
       "        vertical-align: middle;\n",
       "    }\n",
       "\n",
       "    .dataframe tbody tr th {\n",
       "        vertical-align: top;\n",
       "    }\n",
       "\n",
       "    .dataframe thead th {\n",
       "        text-align: right;\n",
       "    }\n",
       "</style>\n",
       "<table border=\"1\" class=\"dataframe\">\n",
       "  <thead>\n",
       "    <tr style=\"text-align: right;\">\n",
       "      <th></th>\n",
       "      <th>0</th>\n",
       "      <th>1</th>\n",
       "      <th>2</th>\n",
       "      <th>3</th>\n",
       "      <th>4</th>\n",
       "      <th>5</th>\n",
       "      <th>6</th>\n",
       "      <th>answer</th>\n",
       "    </tr>\n",
       "  </thead>\n",
       "  <tbody>\n",
       "    <tr>\n",
       "      <th>0</th>\n",
       "      <td>0.0</td>\n",
       "      <td>0.0</td>\n",
       "      <td>0.0</td>\n",
       "      <td>0.0</td>\n",
       "      <td>1.0</td>\n",
       "      <td>0.0</td>\n",
       "      <td>0.0</td>\n",
       "      <td>0</td>\n",
       "    </tr>\n",
       "    <tr>\n",
       "      <th>1</th>\n",
       "      <td>0.0</td>\n",
       "      <td>0.0</td>\n",
       "      <td>0.0</td>\n",
       "      <td>0.0</td>\n",
       "      <td>1.0</td>\n",
       "      <td>0.0</td>\n",
       "      <td>0.0</td>\n",
       "      <td>0</td>\n",
       "    </tr>\n",
       "    <tr>\n",
       "      <th>2</th>\n",
       "      <td>0.0</td>\n",
       "      <td>0.0</td>\n",
       "      <td>0.0</td>\n",
       "      <td>0.0</td>\n",
       "      <td>1.0</td>\n",
       "      <td>0.0</td>\n",
       "      <td>0.0</td>\n",
       "      <td>0</td>\n",
       "    </tr>\n",
       "    <tr>\n",
       "      <th>3</th>\n",
       "      <td>0.0</td>\n",
       "      <td>0.0</td>\n",
       "      <td>0.0</td>\n",
       "      <td>0.0</td>\n",
       "      <td>1.0</td>\n",
       "      <td>0.0</td>\n",
       "      <td>0.0</td>\n",
       "      <td>0</td>\n",
       "    </tr>\n",
       "    <tr>\n",
       "      <th>4</th>\n",
       "      <td>0.0</td>\n",
       "      <td>1.0</td>\n",
       "      <td>0.0</td>\n",
       "      <td>0.0</td>\n",
       "      <td>0.0</td>\n",
       "      <td>0.0</td>\n",
       "      <td>0.0</td>\n",
       "      <td>0</td>\n",
       "    </tr>\n",
       "    <tr>\n",
       "      <th>...</th>\n",
       "      <td>...</td>\n",
       "      <td>...</td>\n",
       "      <td>...</td>\n",
       "      <td>...</td>\n",
       "      <td>...</td>\n",
       "      <td>...</td>\n",
       "      <td>...</td>\n",
       "      <td>...</td>\n",
       "    </tr>\n",
       "    <tr>\n",
       "      <th>1998</th>\n",
       "      <td>0.0</td>\n",
       "      <td>0.0</td>\n",
       "      <td>0.0</td>\n",
       "      <td>0.0</td>\n",
       "      <td>1.0</td>\n",
       "      <td>0.0</td>\n",
       "      <td>0.0</td>\n",
       "      <td>0</td>\n",
       "    </tr>\n",
       "    <tr>\n",
       "      <th>1999</th>\n",
       "      <td>0.0</td>\n",
       "      <td>0.0</td>\n",
       "      <td>0.0</td>\n",
       "      <td>0.0</td>\n",
       "      <td>0.0</td>\n",
       "      <td>0.0</td>\n",
       "      <td>1.0</td>\n",
       "      <td>0</td>\n",
       "    </tr>\n",
       "    <tr>\n",
       "      <th>2000</th>\n",
       "      <td>0.0</td>\n",
       "      <td>0.0</td>\n",
       "      <td>0.0</td>\n",
       "      <td>0.0</td>\n",
       "      <td>1.0</td>\n",
       "      <td>0.0</td>\n",
       "      <td>0.0</td>\n",
       "      <td>0</td>\n",
       "    </tr>\n",
       "    <tr>\n",
       "      <th>2001</th>\n",
       "      <td>0.0</td>\n",
       "      <td>0.0</td>\n",
       "      <td>0.0</td>\n",
       "      <td>0.0</td>\n",
       "      <td>1.0</td>\n",
       "      <td>0.0</td>\n",
       "      <td>0.0</td>\n",
       "      <td>0</td>\n",
       "    </tr>\n",
       "    <tr>\n",
       "      <th>2002</th>\n",
       "      <td>0.0</td>\n",
       "      <td>0.0</td>\n",
       "      <td>0.0</td>\n",
       "      <td>0.0</td>\n",
       "      <td>1.0</td>\n",
       "      <td>0.0</td>\n",
       "      <td>0.0</td>\n",
       "      <td>0</td>\n",
       "    </tr>\n",
       "  </tbody>\n",
       "</table>\n",
       "<p>2003 rows × 8 columns</p>\n",
       "</div>"
      ],
      "text/plain": [
       "        0    1    2    3    4    5    6  answer\n",
       "0     0.0  0.0  0.0  0.0  1.0  0.0  0.0       0\n",
       "1     0.0  0.0  0.0  0.0  1.0  0.0  0.0       0\n",
       "2     0.0  0.0  0.0  0.0  1.0  0.0  0.0       0\n",
       "3     0.0  0.0  0.0  0.0  1.0  0.0  0.0       0\n",
       "4     0.0  1.0  0.0  0.0  0.0  0.0  0.0       0\n",
       "...   ...  ...  ...  ...  ...  ...  ...     ...\n",
       "1998  0.0  0.0  0.0  0.0  1.0  0.0  0.0       0\n",
       "1999  0.0  0.0  0.0  0.0  0.0  0.0  1.0       0\n",
       "2000  0.0  0.0  0.0  0.0  1.0  0.0  0.0       0\n",
       "2001  0.0  0.0  0.0  0.0  1.0  0.0  0.0       0\n",
       "2002  0.0  0.0  0.0  0.0  1.0  0.0  0.0       0\n",
       "\n",
       "[2003 rows x 8 columns]"
      ]
     },
     "execution_count": 193,
     "metadata": {},
     "output_type": "execute_result"
    }
   ],
   "source": [
    "y_test_1"
   ]
  },
  {
   "cell_type": "code",
   "execution_count": 197,
   "id": "024fed6e",
   "metadata": {},
   "outputs": [
    {
     "name": "stderr",
     "output_type": "stream",
     "text": [
      "100%|██████████| 2003/2003 [00:01<00:00, 1069.43it/s]\n"
     ]
    }
   ],
   "source": [
    "for i in tqdm(range(0,2003)):\n",
    "    for j in range(0,7):\n",
    "        if y_test_1.iloc[i, j]==1:\n",
    "            y_test_1['answer'][i]=j"
   ]
  },
  {
   "cell_type": "code",
   "execution_count": 198,
   "id": "5c3b59af",
   "metadata": {},
   "outputs": [
    {
     "data": {
      "text/html": [
       "<div>\n",
       "<style scoped>\n",
       "    .dataframe tbody tr th:only-of-type {\n",
       "        vertical-align: middle;\n",
       "    }\n",
       "\n",
       "    .dataframe tbody tr th {\n",
       "        vertical-align: top;\n",
       "    }\n",
       "\n",
       "    .dataframe thead th {\n",
       "        text-align: right;\n",
       "    }\n",
       "</style>\n",
       "<table border=\"1\" class=\"dataframe\">\n",
       "  <thead>\n",
       "    <tr style=\"text-align: right;\">\n",
       "      <th></th>\n",
       "      <th>0</th>\n",
       "      <th>1</th>\n",
       "      <th>2</th>\n",
       "      <th>3</th>\n",
       "      <th>4</th>\n",
       "      <th>5</th>\n",
       "      <th>6</th>\n",
       "      <th>answer</th>\n",
       "    </tr>\n",
       "  </thead>\n",
       "  <tbody>\n",
       "    <tr>\n",
       "      <th>0</th>\n",
       "      <td>0.0</td>\n",
       "      <td>0.0</td>\n",
       "      <td>0.0</td>\n",
       "      <td>0.0</td>\n",
       "      <td>1.0</td>\n",
       "      <td>0.0</td>\n",
       "      <td>0.0</td>\n",
       "      <td>4</td>\n",
       "    </tr>\n",
       "    <tr>\n",
       "      <th>1</th>\n",
       "      <td>0.0</td>\n",
       "      <td>0.0</td>\n",
       "      <td>0.0</td>\n",
       "      <td>0.0</td>\n",
       "      <td>1.0</td>\n",
       "      <td>0.0</td>\n",
       "      <td>0.0</td>\n",
       "      <td>4</td>\n",
       "    </tr>\n",
       "    <tr>\n",
       "      <th>2</th>\n",
       "      <td>0.0</td>\n",
       "      <td>0.0</td>\n",
       "      <td>0.0</td>\n",
       "      <td>0.0</td>\n",
       "      <td>1.0</td>\n",
       "      <td>0.0</td>\n",
       "      <td>0.0</td>\n",
       "      <td>4</td>\n",
       "    </tr>\n",
       "    <tr>\n",
       "      <th>3</th>\n",
       "      <td>0.0</td>\n",
       "      <td>0.0</td>\n",
       "      <td>0.0</td>\n",
       "      <td>0.0</td>\n",
       "      <td>1.0</td>\n",
       "      <td>0.0</td>\n",
       "      <td>0.0</td>\n",
       "      <td>4</td>\n",
       "    </tr>\n",
       "    <tr>\n",
       "      <th>4</th>\n",
       "      <td>0.0</td>\n",
       "      <td>1.0</td>\n",
       "      <td>0.0</td>\n",
       "      <td>0.0</td>\n",
       "      <td>0.0</td>\n",
       "      <td>0.0</td>\n",
       "      <td>0.0</td>\n",
       "      <td>1</td>\n",
       "    </tr>\n",
       "    <tr>\n",
       "      <th>...</th>\n",
       "      <td>...</td>\n",
       "      <td>...</td>\n",
       "      <td>...</td>\n",
       "      <td>...</td>\n",
       "      <td>...</td>\n",
       "      <td>...</td>\n",
       "      <td>...</td>\n",
       "      <td>...</td>\n",
       "    </tr>\n",
       "    <tr>\n",
       "      <th>1998</th>\n",
       "      <td>0.0</td>\n",
       "      <td>0.0</td>\n",
       "      <td>0.0</td>\n",
       "      <td>0.0</td>\n",
       "      <td>1.0</td>\n",
       "      <td>0.0</td>\n",
       "      <td>0.0</td>\n",
       "      <td>4</td>\n",
       "    </tr>\n",
       "    <tr>\n",
       "      <th>1999</th>\n",
       "      <td>0.0</td>\n",
       "      <td>0.0</td>\n",
       "      <td>0.0</td>\n",
       "      <td>0.0</td>\n",
       "      <td>0.0</td>\n",
       "      <td>0.0</td>\n",
       "      <td>1.0</td>\n",
       "      <td>6</td>\n",
       "    </tr>\n",
       "    <tr>\n",
       "      <th>2000</th>\n",
       "      <td>0.0</td>\n",
       "      <td>0.0</td>\n",
       "      <td>0.0</td>\n",
       "      <td>0.0</td>\n",
       "      <td>1.0</td>\n",
       "      <td>0.0</td>\n",
       "      <td>0.0</td>\n",
       "      <td>4</td>\n",
       "    </tr>\n",
       "    <tr>\n",
       "      <th>2001</th>\n",
       "      <td>0.0</td>\n",
       "      <td>0.0</td>\n",
       "      <td>0.0</td>\n",
       "      <td>0.0</td>\n",
       "      <td>1.0</td>\n",
       "      <td>0.0</td>\n",
       "      <td>0.0</td>\n",
       "      <td>4</td>\n",
       "    </tr>\n",
       "    <tr>\n",
       "      <th>2002</th>\n",
       "      <td>0.0</td>\n",
       "      <td>0.0</td>\n",
       "      <td>0.0</td>\n",
       "      <td>0.0</td>\n",
       "      <td>1.0</td>\n",
       "      <td>0.0</td>\n",
       "      <td>0.0</td>\n",
       "      <td>4</td>\n",
       "    </tr>\n",
       "  </tbody>\n",
       "</table>\n",
       "<p>2003 rows × 8 columns</p>\n",
       "</div>"
      ],
      "text/plain": [
       "        0    1    2    3    4    5    6  answer\n",
       "0     0.0  0.0  0.0  0.0  1.0  0.0  0.0       4\n",
       "1     0.0  0.0  0.0  0.0  1.0  0.0  0.0       4\n",
       "2     0.0  0.0  0.0  0.0  1.0  0.0  0.0       4\n",
       "3     0.0  0.0  0.0  0.0  1.0  0.0  0.0       4\n",
       "4     0.0  1.0  0.0  0.0  0.0  0.0  0.0       1\n",
       "...   ...  ...  ...  ...  ...  ...  ...     ...\n",
       "1998  0.0  0.0  0.0  0.0  1.0  0.0  0.0       4\n",
       "1999  0.0  0.0  0.0  0.0  0.0  0.0  1.0       6\n",
       "2000  0.0  0.0  0.0  0.0  1.0  0.0  0.0       4\n",
       "2001  0.0  0.0  0.0  0.0  1.0  0.0  0.0       4\n",
       "2002  0.0  0.0  0.0  0.0  1.0  0.0  0.0       4\n",
       "\n",
       "[2003 rows x 8 columns]"
      ]
     },
     "execution_count": 198,
     "metadata": {},
     "output_type": "execute_result"
    }
   ],
   "source": [
    "y_test_1"
   ]
  },
  {
   "cell_type": "code",
   "execution_count": 199,
   "id": "c6a4b6f0",
   "metadata": {},
   "outputs": [],
   "source": [
    "y_true=np.array(y_test_1['answer'])"
   ]
  },
  {
   "cell_type": "code",
   "execution_count": 209,
   "id": "62b4c455",
   "metadata": {},
   "outputs": [
    {
     "data": {
      "text/plain": [
       "(2003,)"
      ]
     },
     "execution_count": 209,
     "metadata": {},
     "output_type": "execute_result"
    }
   ],
   "source": [
    "y_true.shape"
   ]
  },
  {
   "cell_type": "code",
   "execution_count": 212,
   "id": "1b0110c0",
   "metadata": {},
   "outputs": [
    {
     "data": {
      "text/plain": [
       "(2003,)"
      ]
     },
     "execution_count": 212,
     "metadata": {},
     "output_type": "execute_result"
    }
   ],
   "source": [
    "y_pred.shape"
   ]
  },
  {
   "cell_type": "code",
   "execution_count": 118,
   "id": "f951f46e",
   "metadata": {},
   "outputs": [],
   "source": [
    "from sklearn import metrics\n",
    "from sklearn.metrics import roc_curve, auc"
   ]
  },
  {
   "cell_type": "code",
   "execution_count": 215,
   "id": "42a2ae96",
   "metadata": {},
   "outputs": [],
   "source": [
    "auc_roc=metrics.classification_report(y_true, y_pred)"
   ]
  },
  {
   "cell_type": "code",
   "execution_count": 219,
   "id": "2789408b",
   "metadata": {},
   "outputs": [
    {
     "name": "stdout",
     "output_type": "stream",
     "text": [
      "              precision    recall  f1-score   support\n",
      "\n",
      "           0       0.29      0.16      0.21        61\n",
      "           1       0.41      0.73      0.53       111\n",
      "           2       0.39      0.48      0.43       198\n",
      "           3       0.00      0.00      0.00        29\n",
      "           4       0.86      0.91      0.89      1351\n",
      "           5       0.57      0.83      0.68        30\n",
      "           6       0.70      0.14      0.23       223\n",
      "\n",
      "    accuracy                           0.74      2003\n",
      "   macro avg       0.46      0.47      0.42      2003\n",
      "weighted avg       0.74      0.74      0.71      2003\n",
      "\n"
     ]
    }
   ],
   "source": [
    "print(auc_roc)"
   ]
  },
  {
   "cell_type": "markdown",
   "id": "491047ef",
   "metadata": {},
   "source": [
    "$ Precision = \\frac{TP}{TP+FP} $,\n",
    "$ Recall = \\frac{TP}{TP+FN} $"
   ]
  },
  {
   "cell_type": "markdown",
   "id": "9d21a93b",
   "metadata": {},
   "source": [
    "label_mapping={ 4:'nv', 6:'mel', 2:'bkl', 1:'bcc', 0:'akiec', 5:'vasc', 3:'df' }\n",
    "\n",
    "df은 아예 맞추지 못한 것을 알 수 있다,\n",
    "\n",
    "반면, nv의 결과가 가장 좋은 것을 알 수 있다.\n",
    "\n",
    "이를 통해, df의 학습 데이터 양이 적었다는 것을 유추해볼 수 있다."
   ]
  },
  {
   "cell_type": "code",
   "execution_count": 323,
   "id": "d7505950",
   "metadata": {},
   "outputs": [
    {
     "name": "stdout",
     "output_type": "stream",
     "text": [
      "[[[1918   24]\n",
      "  [  51   10]]\n",
      "\n",
      " [[1776  116]\n",
      "  [  30   81]]\n",
      "\n",
      " [[1655  150]\n",
      "  [ 102   96]]\n",
      "\n",
      " [[1974    0]\n",
      "  [  29    0]]\n",
      "\n",
      " [[ 449  203]\n",
      "  [ 116 1235]]\n",
      "\n",
      " [[1954   19]\n",
      "  [   5   25]]\n",
      "\n",
      " [[1767   13]\n",
      "  [ 192   31]]]\n"
     ]
    }
   ],
   "source": [
    "mul=multilabel_confusion_matrix(y_true, y_pred)\n",
    "print(mul)"
   ]
  },
  {
   "cell_type": "code",
   "execution_count": 233,
   "id": "05df73c4",
   "metadata": {},
   "outputs": [],
   "source": [
    "label=['akiec', 'bcc','bkl','df','nv','vasc','mel']"
   ]
  },
  {
   "cell_type": "code",
   "execution_count": 237,
   "id": "ceb4ca6d",
   "metadata": {},
   "outputs": [
    {
     "name": "stdout",
     "output_type": "stream",
     "text": [
      "akiec\n",
      "      0   1\n",
      "0  1918  24\n",
      "1    51  10\n",
      "bcc\n",
      "      0    1\n",
      "0  1776  116\n",
      "1    30   81\n",
      "bkl\n",
      "      0    1\n",
      "0  1655  150\n",
      "1   102   96\n",
      "df\n",
      "      0  1\n",
      "0  1974  0\n",
      "1    29  0\n",
      "nv\n",
      "     0     1\n",
      "0  449   203\n",
      "1  116  1235\n",
      "vasc\n",
      "      0   1\n",
      "0  1954  19\n",
      "1     5  25\n",
      "mel\n",
      "      0   1\n",
      "0  1767  13\n",
      "1   192  31\n"
     ]
    }
   ],
   "source": [
    "for i in range(7):\n",
    "    con_mul=pd.DataFrame(mul[i])\n",
    "    print(label[i])\n",
    "    print(con_mul)"
   ]
  },
  {
   "cell_type": "code",
   "execution_count": 243,
   "id": "8f2a8d68",
   "metadata": {},
   "outputs": [
    {
     "name": "stdout",
     "output_type": "stream",
     "text": [
      "akiec\n"
     ]
    },
    {
     "data": {
      "image/png": "[encoded data removed]",
      "text/plain": [
       "<Figure size 432x288 with 2 Axes>"
      ]
     },
     "metadata": {
      "needs_background": "light"
     },
     "output_type": "display_data"
    },
    {
     "name": "stdout",
     "output_type": "stream",
     "text": [
      "bcc\n"
     ]
    },
    {
     "data": {
      "image/png": "[encoded data removed]",
      "text/plain": [
       "<Figure size 432x288 with 2 Axes>"
      ]
     },
     "metadata": {
      "needs_background": "light"
     },
     "output_type": "display_data"
    },
    {
     "name": "stdout",
     "output_type": "stream",
     "text": [
      "bkl\n"
     ]
    },
    {
     "data": {
      "image/png": "[encoded data removed]",
      "text/plain": [
       "<Figure size 432x288 with 2 Axes>"
      ]
     },
     "metadata": {
      "needs_background": "light"
     },
     "output_type": "display_data"
    },
    {
     "name": "stdout",
     "output_type": "stream",
     "text": [
      "df\n"
     ]
    },
    {
     "data": {
      "image/png": "[encoded data removed]",
      "text/plain": [
       "<Figure size 432x288 with 2 Axes>"
      ]
     },
     "metadata": {
      "needs_background": "light"
     },
     "output_type": "display_data"
    },
    {
     "name": "stdout",
     "output_type": "stream",
     "text": [
      "nv\n"
     ]
    },
    {
     "data": {
      "image/png": "[encoded data removed]",
      "text/plain": [
       "<Figure size 432x288 with 2 Axes>"
      ]
     },
     "metadata": {
      "needs_background": "light"
     },
     "output_type": "display_data"
    },
    {
     "name": "stdout",
     "output_type": "stream",
     "text": [
      "vasc\n"
     ]
    },
    {
     "data": {
      "image/png": "[encoded data removed]",
      "text/plain": [
       "<Figure size 432x288 with 2 Axes>"
      ]
     },
     "metadata": {
      "needs_background": "light"
     },
     "output_type": "display_data"
    },
    {
     "name": "stdout",
     "output_type": "stream",
     "text": [
      "mel\n"
     ]
    },
    {
     "data": {
      "image/png": "[encoded data removed]",
      "text/plain": [
       "<Figure size 432x288 with 2 Axes>"
      ]
     },
     "metadata": {
      "needs_background": "light"
     },
     "output_type": "display_data"
    }
   ],
   "source": [
    "for i in range(7):\n",
    "    con_mul=pd.DataFrame(mul[i])\n",
    "    print(label[i])\n",
    "    sns.heatmap(con_mul, annot=True, cmap=\"summer\")\n",
    "    plt.show()"
   ]
  },
  {
   "cell_type": "markdown",
   "id": "3131808a",
   "metadata": {},
   "source": [
    "Modeling2\n",
    "--\n",
    "\n",
    "loss, acc: cross_entropy, acc에서 sparse_cross_entropy, sparse_categorical_accuracy으로 변경해서 모델링"
   ]
  },
  {
   "cell_type": "code",
   "execution_count": 326,
   "id": "fd42d6a2",
   "metadata": {},
   "outputs": [],
   "source": [
    "x=ham_2828R['image'].to_numpy()\n",
    "#y=to_categorical(ham_2828R['label'], num_classes=7)\n",
    "y=ham_2828R['label'].values"
   ]
  },
  {
   "cell_type": "code",
   "execution_count": 327,
   "id": "afb905d7",
   "metadata": {},
   "outputs": [],
   "source": [
    "x_train, x_test, y_train, y_test=train_test_split(x,y,test_size=0.2, random_state=0)"
   ]
  },
  {
   "cell_type": "code",
   "execution_count": 328,
   "id": "5ce3363b",
   "metadata": {},
   "outputs": [],
   "source": [
    "x_train=np.stack(x_train, axis=0)\n",
    "x_test=np.stack(x_test, axis=0)"
   ]
  },
  {
   "cell_type": "code",
   "execution_count": 329,
   "id": "94abdc8b",
   "metadata": {},
   "outputs": [],
   "source": [
    "x_train = np.reshape(x_train / 255, (-1, 28, 28, 3))\n",
    "x_test = np.reshape(x_test / 255, (-1, 28, 28, 3))"
   ]
  },
  {
   "cell_type": "code",
   "execution_count": 330,
   "id": "d7aa740c",
   "metadata": {},
   "outputs": [
    {
     "name": "stdout",
     "output_type": "stream",
     "text": [
      "(8012, 28, 28, 3)\n",
      "(8012,)\n",
      "(2003, 28, 28, 3)\n",
      "(2003,)\n"
     ]
    }
   ],
   "source": [
    "print(x_train.shape)\n",
    "print(y_train.shape)\n",
    "print(x_test.shape)\n",
    "print(y_test.shape)"
   ]
  },
  {
   "cell_type": "code",
   "execution_count": 331,
   "id": "ee05fcad",
   "metadata": {},
   "outputs": [],
   "source": [
    "model = Sequential()\n",
    "model.add(Conv2D(input_shape=(28,28,3),filters=32,kernel_size=(3,3),padding=\"same\", activation=\"relu\"))\n",
    "\n",
    "#####\n",
    "model.add(BatchNormalization())\n",
    "model.add(Conv2D(filters=32,kernel_size=(3,3),padding=\"same\", activation=\"relu\"))\n",
    "model.add(MaxPooling2D(pool_size=(2,2),strides=(2,2)))\n",
    "model.add(Dropout(0.2))\n",
    "#####\n",
    "\n",
    "#####\n",
    "model.add(BatchNormalization())\n",
    "model.add(Conv2D(filters=64, kernel_size=(3,3), padding=\"same\", activation=\"relu\"))\n",
    "model.add(BatchNormalization())\n",
    "model.add(Conv2D(filters=64, kernel_size=(3,3), padding=\"same\", activation=\"relu\"))\n",
    "model.add(MaxPooling2D(pool_size=(2,2),strides=(2,2)))\n",
    "model.add(Dropout(0.3))\n",
    "#####\n",
    "\n",
    "model.add(BatchNormalization())\n",
    "model.add(Conv2D(filters=128, kernel_size=(3,3), padding=\"same\", activation=\"relu\"))\n",
    "model.add(BatchNormalization())\n",
    "model.add(Conv2D(filters=128, kernel_size=(3,3), padding=\"same\", activation=\"relu\"))\n",
    "model.add(BatchNormalization())\n",
    "model.add(Conv2D(filters=128, kernel_size=(3,3), padding=\"same\", activation=\"relu\"))\n",
    "model.add(BatchNormalization())\n",
    "model.add(Conv2D(filters=128, kernel_size=(3,3), padding=\"same\", activation=\"relu\"))\n",
    "model.add(MaxPooling2D(pool_size=(2,2),strides=(2,2)))\n",
    "model.add(Dropout(0.4))\n",
    "\n",
    "#####\n",
    "model.add(BatchNormalization())\n",
    "model.add(Conv2D(filters=256, kernel_size=(3,3), padding=\"same\", activation=\"relu\"))\n",
    "model.add(BatchNormalization())\n",
    "model.add(Conv2D(filters=256, kernel_size=(3,3), padding=\"same\", activation=\"relu\"))\n",
    "model.add(BatchNormalization())\n",
    "model.add(Conv2D(filters=256, kernel_size=(3,3), padding=\"same\", activation=\"relu\"))\n",
    "model.add(BatchNormalization())\n",
    "model.add(Conv2D(filters=256, kernel_size=(3,3), padding=\"same\", activation=\"relu\"))\n",
    "model.add(MaxPooling2D(pool_size=(2,2),strides=(2,2)))\n",
    "model.add(Dropout(0.5))\n",
    "\n",
    "\n",
    "model.add(Flatten())\n",
    "\n",
    "model.add(Dense(units=512,activation=\"relu\"))\n",
    "model.add(BatchNormalization())\n",
    "model.add(Dense(7, activation='softmax'))\n",
    "\n",
    "#opt=SGD(lr=0.1, momentum=0.9)\n",
    "\n",
    "model.compile(loss='sparse_categorical_crossentropy', optimizer=tf.optimizers.Adam(learning_rate=1e-4), metrics=['sparse_categorical_accuracy'])"
   ]
  },
  {
   "cell_type": "code",
   "execution_count": 332,
   "id": "b561a07d",
   "metadata": {},
   "outputs": [
    {
     "name": "stdout",
     "output_type": "stream",
     "text": [
      "Model: \"sequential_15\"\n",
      "_________________________________________________________________\n",
      "Layer (type)                 Output Shape              Param #   \n",
      "=================================================================\n",
      "conv2d_174 (Conv2D)          (None, 28, 28, 32)        896       \n",
      "_________________________________________________________________\n",
      "batch_normalization_166 (Bat (None, 28, 28, 32)        128       \n",
      "_________________________________________________________________\n",
      "conv2d_175 (Conv2D)          (None, 28, 28, 32)        9248      \n",
      "_________________________________________________________________\n",
      "max_pooling2d_59 (MaxPooling (None, 14, 14, 32)        0         \n",
      "_________________________________________________________________\n",
      "dropout_53 (Dropout)         (None, 14, 14, 32)        0         \n",
      "_________________________________________________________________\n",
      "batch_normalization_167 (Bat (None, 14, 14, 32)        128       \n",
      "_________________________________________________________________\n",
      "conv2d_176 (Conv2D)          (None, 14, 14, 64)        18496     \n",
      "_________________________________________________________________\n",
      "batch_normalization_168 (Bat (None, 14, 14, 64)        256       \n",
      "_________________________________________________________________\n",
      "conv2d_177 (Conv2D)          (None, 14, 14, 64)        36928     \n",
      "_________________________________________________________________\n",
      "max_pooling2d_60 (MaxPooling (None, 7, 7, 64)          0         \n",
      "_________________________________________________________________\n",
      "dropout_54 (Dropout)         (None, 7, 7, 64)          0         \n",
      "_________________________________________________________________\n",
      "batch_normalization_169 (Bat (None, 7, 7, 64)          256       \n",
      "_________________________________________________________________\n",
      "conv2d_178 (Conv2D)          (None, 7, 7, 128)         73856     \n",
      "_________________________________________________________________\n",
      "batch_normalization_170 (Bat (None, 7, 7, 128)         512       \n",
      "_________________________________________________________________\n",
      "conv2d_179 (Conv2D)          (None, 7, 7, 128)         147584    \n",
      "_________________________________________________________________\n",
      "batch_normalization_171 (Bat (None, 7, 7, 128)         512       \n",
      "_________________________________________________________________\n",
      "conv2d_180 (Conv2D)          (None, 7, 7, 128)         147584    \n",
      "_________________________________________________________________\n",
      "batch_normalization_172 (Bat (None, 7, 7, 128)         512       \n",
      "_________________________________________________________________\n",
      "conv2d_181 (Conv2D)          (None, 7, 7, 128)         147584    \n",
      "_________________________________________________________________\n",
      "max_pooling2d_61 (MaxPooling (None, 3, 3, 128)         0         \n",
      "_________________________________________________________________\n",
      "dropout_55 (Dropout)         (None, 3, 3, 128)         0         \n",
      "_________________________________________________________________\n",
      "batch_normalization_173 (Bat (None, 3, 3, 128)         512       \n",
      "_________________________________________________________________\n",
      "conv2d_182 (Conv2D)          (None, 3, 3, 256)         295168    \n",
      "_________________________________________________________________\n",
      "batch_normalization_174 (Bat (None, 3, 3, 256)         1024      \n",
      "_________________________________________________________________\n",
      "conv2d_183 (Conv2D)          (None, 3, 3, 256)         590080    \n",
      "_________________________________________________________________\n",
      "batch_normalization_175 (Bat (None, 3, 3, 256)         1024      \n",
      "_________________________________________________________________\n",
      "conv2d_184 (Conv2D)          (None, 3, 3, 256)         590080    \n",
      "_________________________________________________________________\n",
      "batch_normalization_176 (Bat (None, 3, 3, 256)         1024      \n",
      "_________________________________________________________________\n",
      "conv2d_185 (Conv2D)          (None, 3, 3, 256)         590080    \n",
      "_________________________________________________________________\n",
      "max_pooling2d_62 (MaxPooling (None, 1, 1, 256)         0         \n",
      "_________________________________________________________________\n",
      "dropout_56 (Dropout)         (None, 1, 1, 256)         0         \n",
      "_________________________________________________________________\n",
      "flatten_12 (Flatten)         (None, 256)               0         \n",
      "_________________________________________________________________\n",
      "dense_26 (Dense)             (None, 512)               131584    \n",
      "_________________________________________________________________\n",
      "batch_normalization_177 (Bat (None, 512)               2048      \n",
      "_________________________________________________________________\n",
      "dense_27 (Dense)             (None, 7)                 3591      \n",
      "=================================================================\n",
      "Total params: 2,790,695\n",
      "Trainable params: 2,786,727\n",
      "Non-trainable params: 3,968\n",
      "_________________________________________________________________\n"
     ]
    }
   ],
   "source": [
    "model.summary()"
   ]
  },
  {
   "cell_type": "code",
   "execution_count": 333,
   "id": "6281270d",
   "metadata": {},
   "outputs": [],
   "source": [
    "MODEL_DIR='C:/Users/bella/Desktop/SelfStudy/캐글/skincancer/model/'\n",
    "if not os.path.exists(MODEL_DIR):\n",
    "    os.mkdir(MODEL_DIR)\n",
    "\n",
    "modelpath=\"C:/Users/bella/Desktop/SelfStudy/캐글/skincancer/model/{epoch:02d}-{val_loss:.4f}.hdf5\"\n",
    "checkpointer=ModelCheckpoint(filepath=modelpath, monitor='val_loss', verbose=1, save_best_only=True)\n",
    "early_stopping_callback=EarlyStopping(monitor='val_loss',patience=5) "
   ]
  },
  {
   "cell_type": "code",
   "execution_count": 334,
   "id": "0322c227",
   "metadata": {},
   "outputs": [
    {
     "name": "stdout",
     "output_type": "stream",
     "text": [
      "Epoch 1/30\n",
      "802/802 [==============================] - ETA: 0s - loss: 1.8099 - sparse_categorical_accuracy: 0.3994\n",
      "Epoch 00001: val_loss improved from inf to 2.14613, saving model to C:/Users/bella/Desktop/SelfStudy/캐글/skincancer/model\\01-2.1461.hdf5\n",
      "802/802 [==============================] - 181s 226ms/step - loss: 1.8099 - sparse_categorical_accuracy: 0.3994 - val_loss: 2.1461 - val_sparse_categorical_accuracy: 0.3420\n",
      "Epoch 2/30\n",
      "802/802 [==============================] - ETA: 0s - loss: 1.1636 - sparse_categorical_accuracy: 0.6223\n",
      "Epoch 00002: val_loss improved from 2.14613 to 1.30426, saving model to C:/Users/bella/Desktop/SelfStudy/캐글/skincancer/model\\02-1.3043.hdf5\n",
      "802/802 [==============================] - 190s 236ms/step - loss: 1.1636 - sparse_categorical_accuracy: 0.6223 - val_loss: 1.3043 - val_sparse_categorical_accuracy: 0.5612\n",
      "Epoch 3/30\n",
      "802/802 [==============================] - ETA: 0s - loss: 1.0210 - sparse_categorical_accuracy: 0.6558\n",
      "Epoch 00003: val_loss improved from 1.30426 to 1.10890, saving model to C:/Users/bella/Desktop/SelfStudy/캐글/skincancer/model\\03-1.1089.hdf5\n",
      "802/802 [==============================] - 169s 211ms/step - loss: 1.0210 - sparse_categorical_accuracy: 0.6558 - val_loss: 1.1089 - val_sparse_categorical_accuracy: 0.6271\n",
      "Epoch 4/30\n",
      "802/802 [==============================] - ETA: 0s - loss: 0.9638 - sparse_categorical_accuracy: 0.6681\n",
      "Epoch 00004: val_loss did not improve from 1.10890\n",
      "802/802 [==============================] - 175s 219ms/step - loss: 0.9638 - sparse_categorical_accuracy: 0.6681 - val_loss: 1.5677 - val_sparse_categorical_accuracy: 0.4333\n",
      "Epoch 5/30\n",
      "802/802 [==============================] - ETA: 0s - loss: 0.9435 - sparse_categorical_accuracy: 0.6656\n",
      "Epoch 00005: val_loss improved from 1.10890 to 0.99262, saving model to C:/Users/bella/Desktop/SelfStudy/캐글/skincancer/model\\05-0.9926.hdf5\n",
      "802/802 [==============================] - 144s 180ms/step - loss: 0.9435 - sparse_categorical_accuracy: 0.6656 - val_loss: 0.9926 - val_sparse_categorical_accuracy: 0.6605\n",
      "Epoch 6/30\n",
      "802/802 [==============================] - ETA: 0s - loss: 0.9301 - sparse_categorical_accuracy: 0.6694\n",
      "Epoch 00006: val_loss improved from 0.99262 to 0.93575, saving model to C:/Users/bella/Desktop/SelfStudy/캐글/skincancer/model\\06-0.9358.hdf5\n",
      "802/802 [==============================] - 153s 190ms/step - loss: 0.9301 - sparse_categorical_accuracy: 0.6694 - val_loss: 0.9358 - val_sparse_categorical_accuracy: 0.6720\n",
      "Epoch 7/30\n",
      "802/802 [==============================] - ETA: 0s - loss: 0.9153 - sparse_categorical_accuracy: 0.6755\n",
      "Epoch 00007: val_loss did not improve from 0.93575\n",
      "802/802 [==============================] - 165s 205ms/step - loss: 0.9153 - sparse_categorical_accuracy: 0.6755 - val_loss: 0.9423 - val_sparse_categorical_accuracy: 0.6840\n",
      "Epoch 8/30\n",
      "802/802 [==============================] - ETA: 0s - loss: 0.8952 - sparse_categorical_accuracy: 0.6882\n",
      "Epoch 00008: val_loss improved from 0.93575 to 0.84998, saving model to C:/Users/bella/Desktop/SelfStudy/캐글/skincancer/model\\08-0.8500.hdf5\n",
      "802/802 [==============================] - 136s 170ms/step - loss: 0.8952 - sparse_categorical_accuracy: 0.6882 - val_loss: 0.8500 - val_sparse_categorical_accuracy: 0.7039\n",
      "Epoch 9/30\n",
      "802/802 [==============================] - ETA: 0s - loss: 0.8876 - sparse_categorical_accuracy: 0.6830\n",
      "Epoch 00009: val_loss did not improve from 0.84998\n",
      "802/802 [==============================] - 158s 197ms/step - loss: 0.8876 - sparse_categorical_accuracy: 0.6830 - val_loss: 1.1656 - val_sparse_categorical_accuracy: 0.5806\n",
      "Epoch 10/30\n",
      "802/802 [==============================] - ETA: 0s - loss: 0.8653 - sparse_categorical_accuracy: 0.6923\n",
      "Epoch 00010: val_loss did not improve from 0.84998\n",
      "802/802 [==============================] - 144s 180ms/step - loss: 0.8653 - sparse_categorical_accuracy: 0.6923 - val_loss: 0.8746 - val_sparse_categorical_accuracy: 0.6900\n",
      "Epoch 11/30\n",
      "802/802 [==============================] - ETA: 0s - loss: 0.8604 - sparse_categorical_accuracy: 0.6996\n",
      "Epoch 00011: val_loss did not improve from 0.84998\n",
      "802/802 [==============================] - 119s 149ms/step - loss: 0.8604 - sparse_categorical_accuracy: 0.6996 - val_loss: 0.9530 - val_sparse_categorical_accuracy: 0.6800\n",
      "Epoch 12/30\n",
      "802/802 [==============================] - ETA: 0s - loss: 0.8559 - sparse_categorical_accuracy: 0.6933\n",
      "Epoch 00012: val_loss improved from 0.84998 to 0.82418, saving model to C:/Users/bella/Desktop/SelfStudy/캐글/skincancer/model\\12-0.8242.hdf5\n",
      "802/802 [==============================] - 120s 149ms/step - loss: 0.8559 - sparse_categorical_accuracy: 0.6933 - val_loss: 0.8242 - val_sparse_categorical_accuracy: 0.7039\n",
      "Epoch 13/30\n",
      "802/802 [==============================] - ETA: 0s - loss: 0.8345 - sparse_categorical_accuracy: 0.6997\n",
      "Epoch 00013: val_loss improved from 0.82418 to 0.76851, saving model to C:/Users/bella/Desktop/SelfStudy/캐글/skincancer/model\\13-0.7685.hdf5\n",
      "802/802 [==============================] - 122s 152ms/step - loss: 0.8345 - sparse_categorical_accuracy: 0.6997 - val_loss: 0.7685 - val_sparse_categorical_accuracy: 0.7164\n",
      "Epoch 14/30\n",
      "802/802 [==============================] - ETA: 0s - loss: 0.8099 - sparse_categorical_accuracy: 0.7034\n",
      "Epoch 00014: val_loss did not improve from 0.76851\n",
      "802/802 [==============================] - 123s 153ms/step - loss: 0.8099 - sparse_categorical_accuracy: 0.7034 - val_loss: 0.7767 - val_sparse_categorical_accuracy: 0.7164\n",
      "Epoch 15/30\n",
      "802/802 [==============================] - ETA: 0s - loss: 0.7978 - sparse_categorical_accuracy: 0.7118\n",
      "Epoch 00015: val_loss did not improve from 0.76851\n",
      "802/802 [==============================] - 196s 244ms/step - loss: 0.7978 - sparse_categorical_accuracy: 0.7118 - val_loss: 0.7699 - val_sparse_categorical_accuracy: 0.7204\n",
      "Epoch 16/30\n",
      "802/802 [==============================] - ETA: 0s - loss: 0.7930 - sparse_categorical_accuracy: 0.7142\n",
      "Epoch 00016: val_loss did not improve from 0.76851\n",
      "802/802 [==============================] - 188s 235ms/step - loss: 0.7930 - sparse_categorical_accuracy: 0.7142 - val_loss: 0.7885 - val_sparse_categorical_accuracy: 0.7179\n",
      "Epoch 17/30\n",
      "802/802 [==============================] - ETA: 0s - loss: 0.7785 - sparse_categorical_accuracy: 0.7148\n",
      "Epoch 00017: val_loss improved from 0.76851 to 0.71861, saving model to C:/Users/bella/Desktop/SelfStudy/캐글/skincancer/model\\17-0.7186.hdf5\n",
      "802/802 [==============================] - 155s 193ms/step - loss: 0.7785 - sparse_categorical_accuracy: 0.7148 - val_loss: 0.7186 - val_sparse_categorical_accuracy: 0.7514\n",
      "Epoch 18/30\n",
      "802/802 [==============================] - ETA: 0s - loss: 0.7588 - sparse_categorical_accuracy: 0.7209\n",
      "Epoch 00018: val_loss improved from 0.71861 to 0.69135, saving model to C:/Users/bella/Desktop/SelfStudy/캐글/skincancer/model\\18-0.6913.hdf5\n",
      "802/802 [==============================] - 133s 166ms/step - loss: 0.7588 - sparse_categorical_accuracy: 0.7209 - val_loss: 0.6913 - val_sparse_categorical_accuracy: 0.7494\n",
      "Epoch 19/30\n",
      "802/802 [==============================] - ETA: 0s - loss: 0.7647 - sparse_categorical_accuracy: 0.7213\n",
      "Epoch 00019: val_loss did not improve from 0.69135\n",
      "802/802 [==============================] - 136s 170ms/step - loss: 0.7647 - sparse_categorical_accuracy: 0.7213 - val_loss: 0.7123 - val_sparse_categorical_accuracy: 0.7389\n",
      "Epoch 20/30\n",
      "802/802 [==============================] - ETA: 0s - loss: 0.7427 - sparse_categorical_accuracy: 0.7324  ETA: 10s - loss: 0.7471 - sparse_categ - ETA: 6s - loss: 0.747\n",
      "Epoch 00020: val_loss did not improve from 0.69135\n",
      "802/802 [==============================] - 144s 179ms/step - loss: 0.7427 - sparse_categorical_accuracy: 0.7324 - val_loss: 0.7589 - val_sparse_categorical_accuracy: 0.7334\n",
      "Epoch 21/30\n",
      "802/802 [==============================] - ETA: 0s - loss: 0.7835 - sparse_categorical_accuracy: 0.7199- ETA: 8s - lo\n",
      "Epoch 00021: val_loss did not improve from 0.69135\n",
      "802/802 [==============================] - 152s 189ms/step - loss: 0.7835 - sparse_categorical_accuracy: 0.7199 - val_loss: 0.7707 - val_sparse_categorical_accuracy: 0.7349\n",
      "Epoch 22/30\n",
      "802/802 [==============================] - ETA: 0s - loss: 0.7616 - sparse_categorical_accuracy: 0.7258\n",
      "Epoch 00022: val_loss did not improve from 0.69135\n",
      "802/802 [==============================] - 162s 202ms/step - loss: 0.7616 - sparse_categorical_accuracy: 0.7258 - val_loss: 0.7142 - val_sparse_categorical_accuracy: 0.7344\n",
      "Epoch 23/30\n",
      "802/802 [==============================] - ETA: 0s - loss: 0.7262 - sparse_categorical_accuracy: 0.7393\n",
      "Epoch 00023: val_loss did not improve from 0.69135\n",
      "802/802 [==============================] - 154s 192ms/step - loss: 0.7262 - sparse_categorical_accuracy: 0.7393 - val_loss: 0.7318 - val_sparse_categorical_accuracy: 0.7309\n",
      "Wall time: 58min 46s\n"
     ]
    }
   ],
   "source": [
    "%%time\n",
    "history=model.fit(x_train, y_train, batch_size=10, epochs=30, validation_data=(x_test,y_test), callbacks=[early_stopping_callback, checkpointer])"
   ]
  },
  {
   "cell_type": "code",
   "execution_count": 335,
   "id": "b0c88aab",
   "metadata": {},
   "outputs": [
    {
     "data": {
      "text/plain": [
       "dict_keys(['loss', 'sparse_categorical_accuracy', 'val_loss', 'val_sparse_categorical_accuracy'])"
      ]
     },
     "execution_count": 335,
     "metadata": {},
     "output_type": "execute_result"
    }
   ],
   "source": [
    "history.history.keys()"
   ]
  },
  {
   "cell_type": "code",
   "execution_count": 336,
   "id": "03654c1d",
   "metadata": {},
   "outputs": [
    {
     "name": "stdout",
     "output_type": "stream",
     "text": [
      "251/251 [==============================] - 11s 43ms/step - loss: 0.6492 - sparse_categorical_accuracy: 0.7596\n",
      "\n",
      " Train Accuracy 0.7596\n"
     ]
    }
   ],
   "source": [
    "print(\"\\n Train Accuracy %.4f\"%(model.evaluate(x_train, y_train)[1]))"
   ]
  },
  {
   "cell_type": "code",
   "execution_count": 337,
   "id": "1863ed42",
   "metadata": {},
   "outputs": [
    {
     "name": "stdout",
     "output_type": "stream",
     "text": [
      "63/63 [==============================] - 3s 40ms/step - loss: 0.7318 - sparse_categorical_accuracy: 0.7309\n",
      "\n",
      " Test Accuracy 0.7309\n"
     ]
    }
   ],
   "source": [
    "print(\"\\n Test Accuracy %.4f\"%(model.evaluate(x_test, y_test)[1]))"
   ]
  },
  {
   "cell_type": "code",
   "execution_count": 338,
   "id": "d4fa5f9f",
   "metadata": {},
   "outputs": [
    {
     "data": {
      "image/png": "[encoded data removed]",
      "text/plain": [
       "<Figure size 720x360 with 2 Axes>"
      ]
     },
     "metadata": {
      "needs_background": "light"
     },
     "output_type": "display_data"
    }
   ],
   "source": [
    "his_dict = history.history\n",
    "loss = his_dict['loss']\n",
    "val_loss = his_dict['val_loss'] # 검증 데이터가 있는 경우 val_ 수식어가 붙는다.\n",
    "\n",
    "epochs = range(1,len(loss)+1 )\n",
    "fig = plt.figure(figsize= (10,5) )\n",
    "\n",
    "# 학습 및 검증 손실 그리기\n",
    "\n",
    "ax1 = fig.add_subplot(1,2,1)\n",
    "ax1.plot(epochs, loss, color = 'blue', label = 'train_loss')\n",
    "ax1.plot(epochs, val_loss, color = 'orange', label = 'val_loss')\n",
    "ax1.set_title('train and val loss')\n",
    "ax1.set_xlabel('epochs')\n",
    "ax1.set_ylabel('loss')\n",
    "ax1.legend()\n",
    "\n",
    "acc = his_dict['sparse_categorical_accuracy']\n",
    "val_acc = his_dict['val_sparse_categorical_accuracy']\n",
    "\n",
    "# 학습 및 검증 정확도 그리기\n",
    "ax2 = fig.add_subplot(1,2,2)\n",
    "ax2.plot(epochs, acc, color = 'blue', label = 'sparse_categorical_accuracy')\n",
    "ax2.plot(epochs, val_acc, color = 'orange', label = 'val_sparse_categorical_accuracy')\n",
    "ax2.set_title('train and val acc')\n",
    "ax2.set_xlabel('epochs')\n",
    "ax2.set_ylabel('loss')\n",
    "ax2.legend()\n",
    "\n",
    "plt.show()"
   ]
  },
  {
   "cell_type": "code",
   "execution_count": 341,
   "id": "d8d2faee",
   "metadata": {},
   "outputs": [],
   "source": [
    "y_pred=model.predict(x_test)"
   ]
  },
  {
   "cell_type": "code",
   "execution_count": 347,
   "id": "7d6f321b",
   "metadata": {},
   "outputs": [],
   "source": [
    "y_pred=np.array(list(map(lambda x:np.argmax(x), y_pred)))"
   ]
  },
  {
   "cell_type": "code",
   "execution_count": 349,
   "id": "9aaa3c0f",
   "metadata": {},
   "outputs": [
    {
     "data": {
      "text/plain": [
       "(2003,)"
      ]
     },
     "execution_count": 349,
     "metadata": {},
     "output_type": "execute_result"
    }
   ],
   "source": [
    "y_pred.shape"
   ]
  },
  {
   "cell_type": "code",
   "execution_count": 345,
   "id": "6152e0b8",
   "metadata": {},
   "outputs": [
    {
     "data": {
      "text/plain": [
       "(2003,)"
      ]
     },
     "execution_count": 345,
     "metadata": {},
     "output_type": "execute_result"
    }
   ],
   "source": [
    "y_test.shape"
   ]
  },
  {
   "cell_type": "code",
   "execution_count": 350,
   "id": "666bad85",
   "metadata": {},
   "outputs": [
    {
     "name": "stdout",
     "output_type": "stream",
     "text": [
      "              precision    recall  f1-score   support\n",
      "\n",
      "           0       0.23      0.62      0.34        61\n",
      "           1       0.67      0.27      0.38       111\n",
      "           2       0.37      0.51      0.43       198\n",
      "           3       0.00      0.00      0.00        29\n",
      "           4       0.87      0.91      0.89      1351\n",
      "           5       0.80      0.53      0.64        30\n",
      "           6       0.60      0.25      0.35       223\n",
      "\n",
      "    accuracy                           0.73      2003\n",
      "   macro avg       0.51      0.44      0.43      2003\n",
      "weighted avg       0.75      0.73      0.72      2003\n",
      "\n"
     ]
    }
   ],
   "source": [
    "auc_roc=metrics.classification_report(y_test, y_pred)\n",
    "print(auc_roc)"
   ]
  },
  {
   "cell_type": "code",
   "execution_count": 351,
   "id": "5c03e2bd",
   "metadata": {},
   "outputs": [
    {
     "name": "stdout",
     "output_type": "stream",
     "text": [
      "[[[1815  127]\n",
      "  [  23   38]]\n",
      "\n",
      " [[1877   15]\n",
      "  [  81   30]]\n",
      "\n",
      " [[1631  174]\n",
      "  [  97  101]]\n",
      "\n",
      " [[1974    0]\n",
      "  [  29    0]]\n",
      "\n",
      " [[ 470  182]\n",
      "  [ 128 1223]]\n",
      "\n",
      " [[1969    4]\n",
      "  [  14   16]]\n",
      "\n",
      " [[1743   37]\n",
      "  [ 167   56]]]\n"
     ]
    }
   ],
   "source": [
    "mul=multilabel_confusion_matrix(y_true, y_pred)\n",
    "print(mul)"
   ]
  },
  {
   "cell_type": "code",
   "execution_count": 353,
   "id": "e7293423",
   "metadata": {},
   "outputs": [
    {
     "name": "stdout",
     "output_type": "stream",
     "text": [
      "akiec\n"
     ]
    },
    {
     "data": {
      "image/png": "[encoded data removed]",
      "text/plain": [
       "<Figure size 432x288 with 2 Axes>"
      ]
     },
     "metadata": {
      "needs_background": "light"
     },
     "output_type": "display_data"
    },
    {
     "name": "stdout",
     "output_type": "stream",
     "text": [
      "bcc\n"
     ]
    },
    {
     "data": {
      "image/png": "[encoded data removed]",
      "text/plain": [
       "<Figure size 432x288 with 2 Axes>"
      ]
     },
     "metadata": {
      "needs_background": "light"
     },
     "output_type": "display_data"
    },
    {
     "name": "stdout",
     "output_type": "stream",
     "text": [
      "bkl\n"
     ]
    },
    {
     "data": {
      "image/png": "[encoded data removed]",
      "text/plain": [
       "<Figure size 432x288 with 2 Axes>"
      ]
     },
     "metadata": {
      "needs_background": "light"
     },
     "output_type": "display_data"
    },
    {
     "name": "stdout",
     "output_type": "stream",
     "text": [
      "df\n"
     ]
    },
    {
     "data": {
      "image/png": "[encoded data removed]",
      "text/plain": [
       "<Figure size 432x288 with 2 Axes>"
      ]
     },
     "metadata": {
      "needs_background": "light"
     },
     "output_type": "display_data"
    },
    {
     "name": "stdout",
     "output_type": "stream",
     "text": [
      "nv\n"
     ]
    },
    {
     "data": {
      "image/png": "[encoded data removed]",
      "text/plain": [
       "<Figure size 432x288 with 2 Axes>"
      ]
     },
     "metadata": {
      "needs_background": "light"
     },
     "output_type": "display_data"
    },
    {
     "name": "stdout",
     "output_type": "stream",
     "text": [
      "vasc\n"
     ]
    },
    {
     "data": {
      "image/png": "[encoded data removed]",
      "text/plain": [
       "<Figure size 432x288 with 2 Axes>"
      ]
     },
     "metadata": {
      "needs_background": "light"
     },
     "output_type": "display_data"
    },
    {
     "name": "stdout",
     "output_type": "stream",
     "text": [
      "mel\n"
     ]
    },
    {
     "data": {
      "image/png": "[encoded data removed]",
      "text/plain": [
       "<Figure size 432x288 with 2 Axes>"
      ]
     },
     "metadata": {
      "needs_background": "light"
     },
     "output_type": "display_data"
    }
   ],
   "source": [
    "for i in range(7):\n",
    "    con_mul=pd.DataFrame(mul[i])\n",
    "    print(label[i])\n",
    "    sns.heatmap(con_mul, annot=True, cmap=\"spring\")\n",
    "    plt.show()"
   ]
  },
  {
   "cell_type": "markdown",
   "id": "c03f67f8",
   "metadata": {},
   "source": [
    "- Sparse_Categorical_entropy 와 Categorical_entropy의 결과가 미세한 차이는 존재하지만 큰 차이는 없어 보인다."
   ]
  },
  {
   "cell_type": "markdown",
   "id": "57cf5a3f",
   "metadata": {},
   "source": [
    "OVER SAMPLING(SMOTE)\n",
    "--"
   ]
  },
  {
   "cell_type": "code",
   "execution_count": 60,
   "id": "88ae0da4",
   "metadata": {},
   "outputs": [],
   "source": [
    "#!pip install imbalanced-learn"
   ]
  },
  {
   "cell_type": "code",
   "execution_count": 311,
   "id": "c0b1f9d9",
   "metadata": {},
   "outputs": [
    {
     "data": {
      "text/plain": [
       "<AxesSubplot:xlabel='dx', ylabel='count'>"
      ]
     },
     "execution_count": 311,
     "metadata": {},
     "output_type": "execute_result"
    },
    {
     "data": {
      "image/png": "[encoded data removed]",
      "text/plain": [
       "<Figure size 432x288 with 1 Axes>"
      ]
     },
     "metadata": {},
     "output_type": "display_data"
    }
   ],
   "source": [
    "sns.set_style(\"darkgrid\")\n",
    "sns.countplot(ham_meta.dx)"
   ]
  },
  {
   "cell_type": "code",
   "execution_count": 312,
   "id": "a717d224",
   "metadata": {},
   "outputs": [],
   "source": [
    "from imblearn.over_sampling import SMOTE"
   ]
  },
  {
   "cell_type": "markdown",
   "id": "3be5616e",
   "metadata": {},
   "source": [
    "**SMOTE**\n",
    "\n",
    "동일한 데이터를 단순히 증식시켜버리면 과적합이 발생하기 때문에, SMOTE는 적은 데이터 세트에 있는 개별 데이터들의 K 최근접 이웃(K Nearest Neighbor)을 찾아 이 데이터와 K개 이웃들의 차이를 일정 값으로 만들어 기존 데이터와 약간만 차이가 나는 새로운 데이터를 생성한다."
   ]
  },
  {
   "cell_type": "code",
   "execution_count": 324,
   "id": "678f4a8d",
   "metadata": {},
   "outputs": [],
   "source": [
    "y=ham_2828R[['label']]\n",
    "x=ham_2828R.iloc[:, :-2]"
   ]
  },
  {
   "cell_type": "code",
   "execution_count": 325,
   "id": "0369d5d1",
   "metadata": {},
   "outputs": [],
   "source": [
    "x_train, x_test, y_train, y_test=train_test_split(x,y,test_size=0.2, random_state=0)"
   ]
  },
  {
   "cell_type": "code",
   "execution_count": 326,
   "id": "996f86cc",
   "metadata": {},
   "outputs": [],
   "source": [
    "sm=SMOTE(random_state=0)\n",
    "x_train, y_train=sm.fit_resample(x_train, y_train)"
   ]
  },
  {
   "cell_type": "code",
   "execution_count": 327,
   "id": "fc1099ef",
   "metadata": {},
   "outputs": [
    {
     "data": {
      "text/plain": [
       "label\n",
       "0        5354\n",
       "1        5354\n",
       "2        5354\n",
       "3        5354\n",
       "4        5354\n",
       "5        5354\n",
       "6        5354\n",
       "dtype: int64"
      ]
     },
     "execution_count": 327,
     "metadata": {},
     "output_type": "execute_result"
    }
   ],
   "source": [
    "y_train.value_counts()"
   ]
  },
  {
   "cell_type": "code",
   "execution_count": 328,
   "id": "950f8a79",
   "metadata": {},
   "outputs": [
    {
     "data": {
      "text/plain": [
       "<AxesSubplot:xlabel='label', ylabel='count'>"
      ]
     },
     "execution_count": 328,
     "metadata": {},
     "output_type": "execute_result"
    },
    {
     "data": {
      "image/png": "[encoded data removed]",
      "text/plain": [
       "<Figure size 432x288 with 1 Axes>"
      ]
     },
     "metadata": {},
     "output_type": "display_data"
    }
   ],
   "source": [
    "sns.countplot(y_train.label)"
   ]
  },
  {
   "cell_type": "code",
   "execution_count": 329,
   "id": "91d98aea",
   "metadata": {},
   "outputs": [],
   "source": [
    "y_test=y_test.reset_index()\n",
    "y_test.drop('index', axis=1, inplace=True)\n",
    "x_test=x_test.reset_index()\n",
    "x_test.drop('index', axis=1, inplace=True)"
   ]
  },
  {
   "cell_type": "code",
   "execution_count": 330,
   "id": "292217d3",
   "metadata": {},
   "outputs": [],
   "source": [
    "x_train['image']=0\n",
    "x_test['image']=0"
   ]
  },
  {
   "cell_type": "code",
   "execution_count": 331,
   "id": "431c24b2",
   "metadata": {},
   "outputs": [],
   "source": [
    "y_train=to_categorical(y_train['label'], num_classes=7)\n",
    "y_test=to_categorical(y_test['label'], num_classes=7)"
   ]
  },
  {
   "cell_type": "code",
   "execution_count": 334,
   "id": "26cf221c",
   "metadata": {},
   "outputs": [
    {
     "data": {
      "text/html": [
       "<div>\n",
       "<style scoped>\n",
       "    .dataframe tbody tr th:only-of-type {\n",
       "        vertical-align: middle;\n",
       "    }\n",
       "\n",
       "    .dataframe tbody tr th {\n",
       "        vertical-align: top;\n",
       "    }\n",
       "\n",
       "    .dataframe thead th {\n",
       "        text-align: right;\n",
       "    }\n",
       "</style>\n",
       "<table border=\"1\" class=\"dataframe\">\n",
       "  <thead>\n",
       "    <tr style=\"text-align: right;\">\n",
       "      <th></th>\n",
       "      <th>pixel0000</th>\n",
       "      <th>pixel0001</th>\n",
       "      <th>pixel0002</th>\n",
       "      <th>pixel0003</th>\n",
       "      <th>pixel0004</th>\n",
       "      <th>pixel0005</th>\n",
       "      <th>pixel0006</th>\n",
       "      <th>pixel0007</th>\n",
       "      <th>pixel0008</th>\n",
       "      <th>pixel0009</th>\n",
       "      <th>...</th>\n",
       "      <th>pixel2343</th>\n",
       "      <th>pixel2344</th>\n",
       "      <th>pixel2345</th>\n",
       "      <th>pixel2346</th>\n",
       "      <th>pixel2347</th>\n",
       "      <th>pixel2348</th>\n",
       "      <th>pixel2349</th>\n",
       "      <th>pixel2350</th>\n",
       "      <th>pixel2351</th>\n",
       "      <th>image</th>\n",
       "    </tr>\n",
       "  </thead>\n",
       "  <tbody>\n",
       "    <tr>\n",
       "      <th>0</th>\n",
       "      <td>209</td>\n",
       "      <td>116</td>\n",
       "      <td>122</td>\n",
       "      <td>214</td>\n",
       "      <td>121</td>\n",
       "      <td>131</td>\n",
       "      <td>214</td>\n",
       "      <td>118</td>\n",
       "      <td>120</td>\n",
       "      <td>213</td>\n",
       "      <td>...</td>\n",
       "      <td>196</td>\n",
       "      <td>113</td>\n",
       "      <td>98</td>\n",
       "      <td>192</td>\n",
       "      <td>108</td>\n",
       "      <td>92</td>\n",
       "      <td>188</td>\n",
       "      <td>104</td>\n",
       "      <td>90</td>\n",
       "      <td>0</td>\n",
       "    </tr>\n",
       "    <tr>\n",
       "      <th>1</th>\n",
       "      <td>243</td>\n",
       "      <td>189</td>\n",
       "      <td>193</td>\n",
       "      <td>245</td>\n",
       "      <td>188</td>\n",
       "      <td>191</td>\n",
       "      <td>244</td>\n",
       "      <td>190</td>\n",
       "      <td>197</td>\n",
       "      <td>244</td>\n",
       "      <td>...</td>\n",
       "      <td>229</td>\n",
       "      <td>181</td>\n",
       "      <td>176</td>\n",
       "      <td>229</td>\n",
       "      <td>182</td>\n",
       "      <td>176</td>\n",
       "      <td>228</td>\n",
       "      <td>181</td>\n",
       "      <td>175</td>\n",
       "      <td>0</td>\n",
       "    </tr>\n",
       "    <tr>\n",
       "      <th>2</th>\n",
       "      <td>192</td>\n",
       "      <td>158</td>\n",
       "      <td>157</td>\n",
       "      <td>195</td>\n",
       "      <td>159</td>\n",
       "      <td>160</td>\n",
       "      <td>197</td>\n",
       "      <td>161</td>\n",
       "      <td>168</td>\n",
       "      <td>202</td>\n",
       "      <td>...</td>\n",
       "      <td>181</td>\n",
       "      <td>156</td>\n",
       "      <td>164</td>\n",
       "      <td>168</td>\n",
       "      <td>142</td>\n",
       "      <td>142</td>\n",
       "      <td>143</td>\n",
       "      <td>116</td>\n",
       "      <td>119</td>\n",
       "      <td>0</td>\n",
       "    </tr>\n",
       "    <tr>\n",
       "      <th>3</th>\n",
       "      <td>141</td>\n",
       "      <td>107</td>\n",
       "      <td>110</td>\n",
       "      <td>159</td>\n",
       "      <td>123</td>\n",
       "      <td>124</td>\n",
       "      <td>168</td>\n",
       "      <td>130</td>\n",
       "      <td>130</td>\n",
       "      <td>176</td>\n",
       "      <td>...</td>\n",
       "      <td>163</td>\n",
       "      <td>122</td>\n",
       "      <td>133</td>\n",
       "      <td>153</td>\n",
       "      <td>112</td>\n",
       "      <td>122</td>\n",
       "      <td>144</td>\n",
       "      <td>104</td>\n",
       "      <td>112</td>\n",
       "      <td>0</td>\n",
       "    </tr>\n",
       "    <tr>\n",
       "      <th>4</th>\n",
       "      <td>218</td>\n",
       "      <td>140</td>\n",
       "      <td>166</td>\n",
       "      <td>224</td>\n",
       "      <td>148</td>\n",
       "      <td>174</td>\n",
       "      <td>230</td>\n",
       "      <td>156</td>\n",
       "      <td>182</td>\n",
       "      <td>230</td>\n",
       "      <td>...</td>\n",
       "      <td>214</td>\n",
       "      <td>148</td>\n",
       "      <td>163</td>\n",
       "      <td>214</td>\n",
       "      <td>146</td>\n",
       "      <td>162</td>\n",
       "      <td>211</td>\n",
       "      <td>146</td>\n",
       "      <td>162</td>\n",
       "      <td>0</td>\n",
       "    </tr>\n",
       "    <tr>\n",
       "      <th>...</th>\n",
       "      <td>...</td>\n",
       "      <td>...</td>\n",
       "      <td>...</td>\n",
       "      <td>...</td>\n",
       "      <td>...</td>\n",
       "      <td>...</td>\n",
       "      <td>...</td>\n",
       "      <td>...</td>\n",
       "      <td>...</td>\n",
       "      <td>...</td>\n",
       "      <td>...</td>\n",
       "      <td>...</td>\n",
       "      <td>...</td>\n",
       "      <td>...</td>\n",
       "      <td>...</td>\n",
       "      <td>...</td>\n",
       "      <td>...</td>\n",
       "      <td>...</td>\n",
       "      <td>...</td>\n",
       "      <td>...</td>\n",
       "      <td>...</td>\n",
       "    </tr>\n",
       "    <tr>\n",
       "      <th>37473</th>\n",
       "      <td>176</td>\n",
       "      <td>146</td>\n",
       "      <td>164</td>\n",
       "      <td>179</td>\n",
       "      <td>149</td>\n",
       "      <td>167</td>\n",
       "      <td>183</td>\n",
       "      <td>154</td>\n",
       "      <td>172</td>\n",
       "      <td>185</td>\n",
       "      <td>...</td>\n",
       "      <td>193</td>\n",
       "      <td>177</td>\n",
       "      <td>198</td>\n",
       "      <td>190</td>\n",
       "      <td>174</td>\n",
       "      <td>193</td>\n",
       "      <td>187</td>\n",
       "      <td>167</td>\n",
       "      <td>185</td>\n",
       "      <td>0</td>\n",
       "    </tr>\n",
       "    <tr>\n",
       "      <th>37474</th>\n",
       "      <td>125</td>\n",
       "      <td>109</td>\n",
       "      <td>114</td>\n",
       "      <td>155</td>\n",
       "      <td>134</td>\n",
       "      <td>145</td>\n",
       "      <td>161</td>\n",
       "      <td>138</td>\n",
       "      <td>152</td>\n",
       "      <td>166</td>\n",
       "      <td>...</td>\n",
       "      <td>69</td>\n",
       "      <td>61</td>\n",
       "      <td>72</td>\n",
       "      <td>16</td>\n",
       "      <td>13</td>\n",
       "      <td>19</td>\n",
       "      <td>11</td>\n",
       "      <td>7</td>\n",
       "      <td>11</td>\n",
       "      <td>0</td>\n",
       "    </tr>\n",
       "    <tr>\n",
       "      <th>37475</th>\n",
       "      <td>179</td>\n",
       "      <td>152</td>\n",
       "      <td>164</td>\n",
       "      <td>181</td>\n",
       "      <td>152</td>\n",
       "      <td>166</td>\n",
       "      <td>184</td>\n",
       "      <td>155</td>\n",
       "      <td>169</td>\n",
       "      <td>188</td>\n",
       "      <td>...</td>\n",
       "      <td>205</td>\n",
       "      <td>188</td>\n",
       "      <td>197</td>\n",
       "      <td>204</td>\n",
       "      <td>190</td>\n",
       "      <td>197</td>\n",
       "      <td>201</td>\n",
       "      <td>189</td>\n",
       "      <td>197</td>\n",
       "      <td>0</td>\n",
       "    </tr>\n",
       "    <tr>\n",
       "      <th>37476</th>\n",
       "      <td>166</td>\n",
       "      <td>117</td>\n",
       "      <td>126</td>\n",
       "      <td>166</td>\n",
       "      <td>112</td>\n",
       "      <td>118</td>\n",
       "      <td>169</td>\n",
       "      <td>120</td>\n",
       "      <td>133</td>\n",
       "      <td>173</td>\n",
       "      <td>...</td>\n",
       "      <td>166</td>\n",
       "      <td>123</td>\n",
       "      <td>140</td>\n",
       "      <td>165</td>\n",
       "      <td>122</td>\n",
       "      <td>142</td>\n",
       "      <td>161</td>\n",
       "      <td>114</td>\n",
       "      <td>131</td>\n",
       "      <td>0</td>\n",
       "    </tr>\n",
       "    <tr>\n",
       "      <th>37477</th>\n",
       "      <td>206</td>\n",
       "      <td>156</td>\n",
       "      <td>164</td>\n",
       "      <td>206</td>\n",
       "      <td>153</td>\n",
       "      <td>162</td>\n",
       "      <td>208</td>\n",
       "      <td>158</td>\n",
       "      <td>164</td>\n",
       "      <td>209</td>\n",
       "      <td>...</td>\n",
       "      <td>207</td>\n",
       "      <td>168</td>\n",
       "      <td>180</td>\n",
       "      <td>206</td>\n",
       "      <td>163</td>\n",
       "      <td>175</td>\n",
       "      <td>206</td>\n",
       "      <td>163</td>\n",
       "      <td>178</td>\n",
       "      <td>0</td>\n",
       "    </tr>\n",
       "  </tbody>\n",
       "</table>\n",
       "<p>37478 rows × 2353 columns</p>\n",
       "</div>"
      ],
      "text/plain": [
       "       pixel0000  pixel0001  pixel0002  pixel0003  pixel0004  pixel0005  \\\n",
       "0            209        116        122        214        121        131   \n",
       "1            243        189        193        245        188        191   \n",
       "2            192        158        157        195        159        160   \n",
       "3            141        107        110        159        123        124   \n",
       "4            218        140        166        224        148        174   \n",
       "...          ...        ...        ...        ...        ...        ...   \n",
       "37473        176        146        164        179        149        167   \n",
       "37474        125        109        114        155        134        145   \n",
       "37475        179        152        164        181        152        166   \n",
       "37476        166        117        126        166        112        118   \n",
       "37477        206        156        164        206        153        162   \n",
       "\n",
       "       pixel0006  pixel0007  pixel0008  pixel0009  ...  pixel2343  pixel2344  \\\n",
       "0            214        118        120        213  ...        196        113   \n",
       "1            244        190        197        244  ...        229        181   \n",
       "2            197        161        168        202  ...        181        156   \n",
       "3            168        130        130        176  ...        163        122   \n",
       "4            230        156        182        230  ...        214        148   \n",
       "...          ...        ...        ...        ...  ...        ...        ...   \n",
       "37473        183        154        172        185  ...        193        177   \n",
       "37474        161        138        152        166  ...         69         61   \n",
       "37475        184        155        169        188  ...        205        188   \n",
       "37476        169        120        133        173  ...        166        123   \n",
       "37477        208        158        164        209  ...        207        168   \n",
       "\n",
       "       pixel2345  pixel2346  pixel2347  pixel2348  pixel2349  pixel2350  \\\n",
       "0             98        192        108         92        188        104   \n",
       "1            176        229        182        176        228        181   \n",
       "2            164        168        142        142        143        116   \n",
       "3            133        153        112        122        144        104   \n",
       "4            163        214        146        162        211        146   \n",
       "...          ...        ...        ...        ...        ...        ...   \n",
       "37473        198        190        174        193        187        167   \n",
       "37474         72         16         13         19         11          7   \n",
       "37475        197        204        190        197        201        189   \n",
       "37476        140        165        122        142        161        114   \n",
       "37477        180        206        163        175        206        163   \n",
       "\n",
       "       pixel2351  image  \n",
       "0             90      0  \n",
       "1            175      0  \n",
       "2            119      0  \n",
       "3            112      0  \n",
       "4            162      0  \n",
       "...          ...    ...  \n",
       "37473        185      0  \n",
       "37474         11      0  \n",
       "37475        197      0  \n",
       "37476        131      0  \n",
       "37477        178      0  \n",
       "\n",
       "[37478 rows x 2353 columns]"
      ]
     },
     "execution_count": 334,
     "metadata": {},
     "output_type": "execute_result"
    }
   ],
   "source": [
    "x_train"
   ]
  },
  {
   "cell_type": "code",
   "execution_count": 335,
   "id": "46436644",
   "metadata": {},
   "outputs": [
    {
     "data": {
      "text/html": [
       "<div>\n",
       "<style scoped>\n",
       "    .dataframe tbody tr th:only-of-type {\n",
       "        vertical-align: middle;\n",
       "    }\n",
       "\n",
       "    .dataframe tbody tr th {\n",
       "        vertical-align: top;\n",
       "    }\n",
       "\n",
       "    .dataframe thead th {\n",
       "        text-align: right;\n",
       "    }\n",
       "</style>\n",
       "<table border=\"1\" class=\"dataframe\">\n",
       "  <thead>\n",
       "    <tr style=\"text-align: right;\">\n",
       "      <th></th>\n",
       "      <th>pixel0000</th>\n",
       "      <th>pixel0001</th>\n",
       "      <th>pixel0002</th>\n",
       "      <th>pixel0003</th>\n",
       "      <th>pixel0004</th>\n",
       "      <th>pixel0005</th>\n",
       "      <th>pixel0006</th>\n",
       "      <th>pixel0007</th>\n",
       "      <th>pixel0008</th>\n",
       "      <th>pixel0009</th>\n",
       "      <th>...</th>\n",
       "      <th>pixel2343</th>\n",
       "      <th>pixel2344</th>\n",
       "      <th>pixel2345</th>\n",
       "      <th>pixel2346</th>\n",
       "      <th>pixel2347</th>\n",
       "      <th>pixel2348</th>\n",
       "      <th>pixel2349</th>\n",
       "      <th>pixel2350</th>\n",
       "      <th>pixel2351</th>\n",
       "      <th>image</th>\n",
       "    </tr>\n",
       "  </thead>\n",
       "  <tbody>\n",
       "    <tr>\n",
       "      <th>0</th>\n",
       "      <td>232</td>\n",
       "      <td>143</td>\n",
       "      <td>169</td>\n",
       "      <td>236</td>\n",
       "      <td>150</td>\n",
       "      <td>175</td>\n",
       "      <td>236</td>\n",
       "      <td>150</td>\n",
       "      <td>177</td>\n",
       "      <td>235</td>\n",
       "      <td>...</td>\n",
       "      <td>218</td>\n",
       "      <td>144</td>\n",
       "      <td>148</td>\n",
       "      <td>216</td>\n",
       "      <td>145</td>\n",
       "      <td>147</td>\n",
       "      <td>216</td>\n",
       "      <td>145</td>\n",
       "      <td>148</td>\n",
       "      <td>0</td>\n",
       "    </tr>\n",
       "    <tr>\n",
       "      <th>1</th>\n",
       "      <td>220</td>\n",
       "      <td>155</td>\n",
       "      <td>157</td>\n",
       "      <td>219</td>\n",
       "      <td>151</td>\n",
       "      <td>154</td>\n",
       "      <td>216</td>\n",
       "      <td>144</td>\n",
       "      <td>141</td>\n",
       "      <td>212</td>\n",
       "      <td>...</td>\n",
       "      <td>214</td>\n",
       "      <td>150</td>\n",
       "      <td>151</td>\n",
       "      <td>218</td>\n",
       "      <td>158</td>\n",
       "      <td>156</td>\n",
       "      <td>217</td>\n",
       "      <td>162</td>\n",
       "      <td>158</td>\n",
       "      <td>0</td>\n",
       "    </tr>\n",
       "    <tr>\n",
       "      <th>2</th>\n",
       "      <td>0</td>\n",
       "      <td>0</td>\n",
       "      <td>0</td>\n",
       "      <td>0</td>\n",
       "      <td>0</td>\n",
       "      <td>0</td>\n",
       "      <td>18</td>\n",
       "      <td>8</td>\n",
       "      <td>11</td>\n",
       "      <td>44</td>\n",
       "      <td>...</td>\n",
       "      <td>61</td>\n",
       "      <td>32</td>\n",
       "      <td>42</td>\n",
       "      <td>27</td>\n",
       "      <td>13</td>\n",
       "      <td>17</td>\n",
       "      <td>1</td>\n",
       "      <td>0</td>\n",
       "      <td>0</td>\n",
       "      <td>0</td>\n",
       "    </tr>\n",
       "    <tr>\n",
       "      <th>3</th>\n",
       "      <td>152</td>\n",
       "      <td>110</td>\n",
       "      <td>128</td>\n",
       "      <td>167</td>\n",
       "      <td>127</td>\n",
       "      <td>146</td>\n",
       "      <td>171</td>\n",
       "      <td>132</td>\n",
       "      <td>155</td>\n",
       "      <td>174</td>\n",
       "      <td>...</td>\n",
       "      <td>165</td>\n",
       "      <td>127</td>\n",
       "      <td>154</td>\n",
       "      <td>164</td>\n",
       "      <td>129</td>\n",
       "      <td>155</td>\n",
       "      <td>159</td>\n",
       "      <td>125</td>\n",
       "      <td>150</td>\n",
       "      <td>0</td>\n",
       "    </tr>\n",
       "    <tr>\n",
       "      <th>4</th>\n",
       "      <td>201</td>\n",
       "      <td>172</td>\n",
       "      <td>171</td>\n",
       "      <td>204</td>\n",
       "      <td>174</td>\n",
       "      <td>175</td>\n",
       "      <td>210</td>\n",
       "      <td>182</td>\n",
       "      <td>187</td>\n",
       "      <td>212</td>\n",
       "      <td>...</td>\n",
       "      <td>158</td>\n",
       "      <td>122</td>\n",
       "      <td>123</td>\n",
       "      <td>153</td>\n",
       "      <td>117</td>\n",
       "      <td>120</td>\n",
       "      <td>146</td>\n",
       "      <td>110</td>\n",
       "      <td>114</td>\n",
       "      <td>0</td>\n",
       "    </tr>\n",
       "    <tr>\n",
       "      <th>...</th>\n",
       "      <td>...</td>\n",
       "      <td>...</td>\n",
       "      <td>...</td>\n",
       "      <td>...</td>\n",
       "      <td>...</td>\n",
       "      <td>...</td>\n",
       "      <td>...</td>\n",
       "      <td>...</td>\n",
       "      <td>...</td>\n",
       "      <td>...</td>\n",
       "      <td>...</td>\n",
       "      <td>...</td>\n",
       "      <td>...</td>\n",
       "      <td>...</td>\n",
       "      <td>...</td>\n",
       "      <td>...</td>\n",
       "      <td>...</td>\n",
       "      <td>...</td>\n",
       "      <td>...</td>\n",
       "      <td>...</td>\n",
       "      <td>...</td>\n",
       "    </tr>\n",
       "    <tr>\n",
       "      <th>1998</th>\n",
       "      <td>155</td>\n",
       "      <td>129</td>\n",
       "      <td>145</td>\n",
       "      <td>164</td>\n",
       "      <td>141</td>\n",
       "      <td>157</td>\n",
       "      <td>167</td>\n",
       "      <td>145</td>\n",
       "      <td>160</td>\n",
       "      <td>167</td>\n",
       "      <td>...</td>\n",
       "      <td>167</td>\n",
       "      <td>139</td>\n",
       "      <td>155</td>\n",
       "      <td>165</td>\n",
       "      <td>137</td>\n",
       "      <td>155</td>\n",
       "      <td>162</td>\n",
       "      <td>134</td>\n",
       "      <td>151</td>\n",
       "      <td>0</td>\n",
       "    </tr>\n",
       "    <tr>\n",
       "      <th>1999</th>\n",
       "      <td>17</td>\n",
       "      <td>16</td>\n",
       "      <td>16</td>\n",
       "      <td>50</td>\n",
       "      <td>42</td>\n",
       "      <td>49</td>\n",
       "      <td>119</td>\n",
       "      <td>111</td>\n",
       "      <td>126</td>\n",
       "      <td>148</td>\n",
       "      <td>...</td>\n",
       "      <td>129</td>\n",
       "      <td>115</td>\n",
       "      <td>113</td>\n",
       "      <td>88</td>\n",
       "      <td>75</td>\n",
       "      <td>75</td>\n",
       "      <td>32</td>\n",
       "      <td>27</td>\n",
       "      <td>29</td>\n",
       "      <td>0</td>\n",
       "    </tr>\n",
       "    <tr>\n",
       "      <th>2000</th>\n",
       "      <td>222</td>\n",
       "      <td>152</td>\n",
       "      <td>143</td>\n",
       "      <td>225</td>\n",
       "      <td>154</td>\n",
       "      <td>146</td>\n",
       "      <td>229</td>\n",
       "      <td>155</td>\n",
       "      <td>152</td>\n",
       "      <td>229</td>\n",
       "      <td>...</td>\n",
       "      <td>204</td>\n",
       "      <td>130</td>\n",
       "      <td>119</td>\n",
       "      <td>203</td>\n",
       "      <td>131</td>\n",
       "      <td>119</td>\n",
       "      <td>201</td>\n",
       "      <td>132</td>\n",
       "      <td>122</td>\n",
       "      <td>0</td>\n",
       "    </tr>\n",
       "    <tr>\n",
       "      <th>2001</th>\n",
       "      <td>11</td>\n",
       "      <td>10</td>\n",
       "      <td>11</td>\n",
       "      <td>11</td>\n",
       "      <td>10</td>\n",
       "      <td>11</td>\n",
       "      <td>13</td>\n",
       "      <td>10</td>\n",
       "      <td>12</td>\n",
       "      <td>57</td>\n",
       "      <td>...</td>\n",
       "      <td>144</td>\n",
       "      <td>135</td>\n",
       "      <td>133</td>\n",
       "      <td>124</td>\n",
       "      <td>114</td>\n",
       "      <td>111</td>\n",
       "      <td>60</td>\n",
       "      <td>53</td>\n",
       "      <td>54</td>\n",
       "      <td>0</td>\n",
       "    </tr>\n",
       "    <tr>\n",
       "      <th>2002</th>\n",
       "      <td>222</td>\n",
       "      <td>193</td>\n",
       "      <td>185</td>\n",
       "      <td>225</td>\n",
       "      <td>198</td>\n",
       "      <td>191</td>\n",
       "      <td>227</td>\n",
       "      <td>204</td>\n",
       "      <td>202</td>\n",
       "      <td>226</td>\n",
       "      <td>...</td>\n",
       "      <td>226</td>\n",
       "      <td>198</td>\n",
       "      <td>198</td>\n",
       "      <td>225</td>\n",
       "      <td>196</td>\n",
       "      <td>197</td>\n",
       "      <td>223</td>\n",
       "      <td>194</td>\n",
       "      <td>193</td>\n",
       "      <td>0</td>\n",
       "    </tr>\n",
       "  </tbody>\n",
       "</table>\n",
       "<p>2003 rows × 2353 columns</p>\n",
       "</div>"
      ],
      "text/plain": [
       "      pixel0000  pixel0001  pixel0002  pixel0003  pixel0004  pixel0005  \\\n",
       "0           232        143        169        236        150        175   \n",
       "1           220        155        157        219        151        154   \n",
       "2             0          0          0          0          0          0   \n",
       "3           152        110        128        167        127        146   \n",
       "4           201        172        171        204        174        175   \n",
       "...         ...        ...        ...        ...        ...        ...   \n",
       "1998        155        129        145        164        141        157   \n",
       "1999         17         16         16         50         42         49   \n",
       "2000        222        152        143        225        154        146   \n",
       "2001         11         10         11         11         10         11   \n",
       "2002        222        193        185        225        198        191   \n",
       "\n",
       "      pixel0006  pixel0007  pixel0008  pixel0009  ...  pixel2343  pixel2344  \\\n",
       "0           236        150        177        235  ...        218        144   \n",
       "1           216        144        141        212  ...        214        150   \n",
       "2            18          8         11         44  ...         61         32   \n",
       "3           171        132        155        174  ...        165        127   \n",
       "4           210        182        187        212  ...        158        122   \n",
       "...         ...        ...        ...        ...  ...        ...        ...   \n",
       "1998        167        145        160        167  ...        167        139   \n",
       "1999        119        111        126        148  ...        129        115   \n",
       "2000        229        155        152        229  ...        204        130   \n",
       "2001         13         10         12         57  ...        144        135   \n",
       "2002        227        204        202        226  ...        226        198   \n",
       "\n",
       "      pixel2345  pixel2346  pixel2347  pixel2348  pixel2349  pixel2350  \\\n",
       "0           148        216        145        147        216        145   \n",
       "1           151        218        158        156        217        162   \n",
       "2            42         27         13         17          1          0   \n",
       "3           154        164        129        155        159        125   \n",
       "4           123        153        117        120        146        110   \n",
       "...         ...        ...        ...        ...        ...        ...   \n",
       "1998        155        165        137        155        162        134   \n",
       "1999        113         88         75         75         32         27   \n",
       "2000        119        203        131        119        201        132   \n",
       "2001        133        124        114        111         60         53   \n",
       "2002        198        225        196        197        223        194   \n",
       "\n",
       "      pixel2351  image  \n",
       "0           148      0  \n",
       "1           158      0  \n",
       "2             0      0  \n",
       "3           150      0  \n",
       "4           114      0  \n",
       "...         ...    ...  \n",
       "1998        151      0  \n",
       "1999         29      0  \n",
       "2000        122      0  \n",
       "2001         54      0  \n",
       "2002        193      0  \n",
       "\n",
       "[2003 rows x 2353 columns]"
      ]
     },
     "execution_count": 335,
     "metadata": {},
     "output_type": "execute_result"
    }
   ],
   "source": [
    "x_test"
   ]
  },
  {
   "cell_type": "code",
   "execution_count": 336,
   "id": "6047e68d",
   "metadata": {},
   "outputs": [
    {
     "name": "stderr",
     "output_type": "stream",
     "text": [
      "100%|██████████| 37478/37478 [04:22<00:00, 142.81it/s]\n"
     ]
    }
   ],
   "source": [
    "for i in tqdm(range(0,37478)):\n",
    "    x_train['image'][i]=np.array(list(x_train.iloc[i, :-1].values), dtype=str)"
   ]
  },
  {
   "cell_type": "code",
   "execution_count": 337,
   "id": "9d1a0453",
   "metadata": {},
   "outputs": [
    {
     "name": "stderr",
     "output_type": "stream",
     "text": [
      "100%|██████████| 37478/37478 [03:08<00:00, 198.31it/s]\n"
     ]
    }
   ],
   "source": [
    "for i in tqdm(range(0,37478)):\n",
    "    x_train['image'][i]=np.array(list(x_train.iloc[i, :-1].values), dtype=int).reshape(28,28,3)"
   ]
  },
  {
   "cell_type": "code",
   "execution_count": 338,
   "id": "6e26a463",
   "metadata": {},
   "outputs": [
    {
     "name": "stderr",
     "output_type": "stream",
     "text": [
      "100%|██████████| 2003/2003 [00:12<00:00, 160.21it/s]\n"
     ]
    }
   ],
   "source": [
    "for i in tqdm(range(0,2003)):\n",
    "    x_test['image'][i]=np.array(list(x_test.iloc[i, :-1].values), dtype=str)"
   ]
  },
  {
   "cell_type": "code",
   "execution_count": 339,
   "id": "cacf69b8",
   "metadata": {},
   "outputs": [
    {
     "name": "stderr",
     "output_type": "stream",
     "text": [
      "100%|██████████| 2003/2003 [00:06<00:00, 290.92it/s]\n"
     ]
    }
   ],
   "source": [
    "for i in tqdm(range(0,2003)):\n",
    "    x_test['image'][i]=np.array(list(x_test.iloc[i, :-1].values), dtype=int).reshape(28,28,3)"
   ]
  },
  {
   "cell_type": "code",
   "execution_count": 340,
   "id": "ce3829d6",
   "metadata": {},
   "outputs": [
    {
     "data": {
      "text/html": [
       "<div>\n",
       "<style scoped>\n",
       "    .dataframe tbody tr th:only-of-type {\n",
       "        vertical-align: middle;\n",
       "    }\n",
       "\n",
       "    .dataframe tbody tr th {\n",
       "        vertical-align: top;\n",
       "    }\n",
       "\n",
       "    .dataframe thead th {\n",
       "        text-align: right;\n",
       "    }\n",
       "</style>\n",
       "<table border=\"1\" class=\"dataframe\">\n",
       "  <thead>\n",
       "    <tr style=\"text-align: right;\">\n",
       "      <th></th>\n",
       "      <th>pixel0000</th>\n",
       "      <th>pixel0001</th>\n",
       "      <th>pixel0002</th>\n",
       "      <th>pixel0003</th>\n",
       "      <th>pixel0004</th>\n",
       "      <th>pixel0005</th>\n",
       "      <th>pixel0006</th>\n",
       "      <th>pixel0007</th>\n",
       "      <th>pixel0008</th>\n",
       "      <th>pixel0009</th>\n",
       "      <th>...</th>\n",
       "      <th>pixel2343</th>\n",
       "      <th>pixel2344</th>\n",
       "      <th>pixel2345</th>\n",
       "      <th>pixel2346</th>\n",
       "      <th>pixel2347</th>\n",
       "      <th>pixel2348</th>\n",
       "      <th>pixel2349</th>\n",
       "      <th>pixel2350</th>\n",
       "      <th>pixel2351</th>\n",
       "      <th>image</th>\n",
       "    </tr>\n",
       "  </thead>\n",
       "  <tbody>\n",
       "    <tr>\n",
       "      <th>0</th>\n",
       "      <td>232</td>\n",
       "      <td>143</td>\n",
       "      <td>169</td>\n",
       "      <td>236</td>\n",
       "      <td>150</td>\n",
       "      <td>175</td>\n",
       "      <td>236</td>\n",
       "      <td>150</td>\n",
       "      <td>177</td>\n",
       "      <td>235</td>\n",
       "      <td>...</td>\n",
       "      <td>218</td>\n",
       "      <td>144</td>\n",
       "      <td>148</td>\n",
       "      <td>216</td>\n",
       "      <td>145</td>\n",
       "      <td>147</td>\n",
       "      <td>216</td>\n",
       "      <td>145</td>\n",
       "      <td>148</td>\n",
       "      <td>[[[232, 143, 169], [236, 150, 175], [236, 150,...</td>\n",
       "    </tr>\n",
       "    <tr>\n",
       "      <th>1</th>\n",
       "      <td>220</td>\n",
       "      <td>155</td>\n",
       "      <td>157</td>\n",
       "      <td>219</td>\n",
       "      <td>151</td>\n",
       "      <td>154</td>\n",
       "      <td>216</td>\n",
       "      <td>144</td>\n",
       "      <td>141</td>\n",
       "      <td>212</td>\n",
       "      <td>...</td>\n",
       "      <td>214</td>\n",
       "      <td>150</td>\n",
       "      <td>151</td>\n",
       "      <td>218</td>\n",
       "      <td>158</td>\n",
       "      <td>156</td>\n",
       "      <td>217</td>\n",
       "      <td>162</td>\n",
       "      <td>158</td>\n",
       "      <td>[[[220, 155, 157], [219, 151, 154], [216, 144,...</td>\n",
       "    </tr>\n",
       "  </tbody>\n",
       "</table>\n",
       "<p>2 rows × 2353 columns</p>\n",
       "</div>"
      ],
      "text/plain": [
       "   pixel0000  pixel0001  pixel0002  pixel0003  pixel0004  pixel0005  \\\n",
       "0        232        143        169        236        150        175   \n",
       "1        220        155        157        219        151        154   \n",
       "\n",
       "   pixel0006  pixel0007  pixel0008  pixel0009  ...  pixel2343  pixel2344  \\\n",
       "0        236        150        177        235  ...        218        144   \n",
       "1        216        144        141        212  ...        214        150   \n",
       "\n",
       "   pixel2345  pixel2346  pixel2347  pixel2348  pixel2349  pixel2350  \\\n",
       "0        148        216        145        147        216        145   \n",
       "1        151        218        158        156        217        162   \n",
       "\n",
       "   pixel2351                                              image  \n",
       "0        148  [[[232, 143, 169], [236, 150, 175], [236, 150,...  \n",
       "1        158  [[[220, 155, 157], [219, 151, 154], [216, 144,...  \n",
       "\n",
       "[2 rows x 2353 columns]"
      ]
     },
     "execution_count": 340,
     "metadata": {},
     "output_type": "execute_result"
    }
   ],
   "source": [
    "x_test.head(2)"
   ]
  },
  {
   "cell_type": "code",
   "execution_count": 341,
   "id": "2e040dc7",
   "metadata": {},
   "outputs": [],
   "source": [
    "x_train=x_train['image'].to_numpy()\n",
    "x_test=x_test['image'].to_numpy()"
   ]
  },
  {
   "cell_type": "code",
   "execution_count": 342,
   "id": "66a2d93d",
   "metadata": {},
   "outputs": [],
   "source": [
    "x_train=np.stack(x_train, axis=0)\n",
    "x_test=np.stack(x_test, axis=0)"
   ]
  },
  {
   "cell_type": "code",
   "execution_count": 343,
   "id": "0391258f",
   "metadata": {},
   "outputs": [
    {
     "name": "stdout",
     "output_type": "stream",
     "text": [
      "(37478, 28, 28, 3)\n",
      "(2003, 28, 28, 3)\n",
      "(37478, 7)\n",
      "(2003, 7)\n"
     ]
    }
   ],
   "source": [
    "print(x_train.shape)\n",
    "print(x_test.shape)\n",
    "print(y_train.shape)\n",
    "print(y_test.shape)"
   ]
  },
  {
   "cell_type": "markdown",
   "id": "e879f228",
   "metadata": {},
   "source": [
    "이번에는 x_train, x_test의 각 원소들을 255으로 나누지 않고, 평균과 표준편차를 이용하여 표준화하겠습니다.\n",
    "\n",
    "$$ z= \\frac{X- \\mu}{\\sigma} $$\n",
    "\n",
    "- Standardization (StandardScaler)"
   ]
  },
  {
   "cell_type": "code",
   "execution_count": 344,
   "id": "daa8e61f",
   "metadata": {},
   "outputs": [
    {
     "name": "stdout",
     "output_type": "stream",
     "text": [
      "x_train 평균 163.4243830189902\n",
      "x_train 표준편차 38.85293496890912\n",
      "x_test 평균 160.04596273107344\n",
      "x_test 표준편차 46.062441632086625\n"
     ]
    }
   ],
   "source": [
    "print(\"x_train 평균\", np.mean(x_train))\n",
    "print(\"x_train 표준편차\", np.std(x_train))\n",
    "print(\"x_test 평균\", np.mean(x_test))\n",
    "print(\"x_test 표준편차\", np.std(x_test))"
   ]
  },
  {
   "cell_type": "code",
   "execution_count": 345,
   "id": "aba750cf",
   "metadata": {},
   "outputs": [],
   "source": [
    "x_train_mean=np.mean(x_train)\n",
    "x_train_std=np.std(x_train)\n",
    "x_test_mean=np.mean(x_test)\n",
    "x_test_std=np.std(x_test)\n",
    "\n",
    "x_train = (x_train - x_train_mean)/ x_train_std\n",
    "x_test = (x_test - x_test_mean) / x_test_std\n",
    "\n",
    "x_train = np.reshape(x_train, (-1, 28, 28, 3))\n",
    "x_test = np.reshape(x_test, (-1, 28, 28, 3))"
   ]
  },
  {
   "cell_type": "code",
   "execution_count": 346,
   "id": "7ffccef9",
   "metadata": {},
   "outputs": [
    {
     "name": "stdout",
     "output_type": "stream",
     "text": [
      "(37478, 28, 28, 3)\n",
      "(37478, 7)\n",
      "(2003, 28, 28, 3)\n",
      "(2003, 7)\n"
     ]
    }
   ],
   "source": [
    "print(x_train.shape)\n",
    "print(y_train.shape)\n",
    "print(x_test.shape)\n",
    "print(y_test.shape)"
   ]
  },
  {
   "cell_type": "markdown",
   "id": "61383cec",
   "metadata": {},
   "source": [
    "Modeling3\n",
    "--"
   ]
  },
  {
   "cell_type": "code",
   "execution_count": 347,
   "id": "842e9c36",
   "metadata": {},
   "outputs": [],
   "source": [
    "seed=0\n",
    "np.random.seed(seed)\n",
    "tf.random.set_seed(seed)"
   ]
  },
  {
   "cell_type": "code",
   "execution_count": 348,
   "id": "6230ec99",
   "metadata": {},
   "outputs": [],
   "source": [
    "model = Sequential()\n",
    "model.add(Conv2D(input_shape=(28,28,3),filters=32,kernel_size=(3,3),padding=\"same\", activation=\"relu\"))\n",
    "\n",
    "#####\n",
    "model.add(BatchNormalization())\n",
    "model.add(Conv2D(filters=32,kernel_size=(3,3),padding=\"same\", activation=\"relu\"))\n",
    "model.add(MaxPooling2D(pool_size=(2,2),strides=(2,2)))\n",
    "model.add(Dropout(0.2))\n",
    "#####\n",
    "\n",
    "#####\n",
    "model.add(BatchNormalization())\n",
    "model.add(Conv2D(filters=64, kernel_size=(3,3), padding=\"same\", activation=\"relu\"))\n",
    "model.add(BatchNormalization())\n",
    "model.add(Conv2D(filters=64, kernel_size=(3,3), padding=\"same\", activation=\"relu\"))\n",
    "model.add(MaxPooling2D(pool_size=(2,2),strides=(2,2)))\n",
    "model.add(Dropout(0.3))\n",
    "#####\n",
    "\n",
    "model.add(BatchNormalization())\n",
    "model.add(Conv2D(filters=128, kernel_size=(3,3), padding=\"same\", activation=\"relu\"))\n",
    "model.add(BatchNormalization())\n",
    "model.add(Conv2D(filters=128, kernel_size=(3,3), padding=\"same\", activation=\"relu\"))\n",
    "model.add(BatchNormalization())\n",
    "model.add(Conv2D(filters=128, kernel_size=(3,3), padding=\"same\", activation=\"relu\"))\n",
    "model.add(BatchNormalization())\n",
    "model.add(Conv2D(filters=128, kernel_size=(3,3), padding=\"same\", activation=\"relu\"))\n",
    "model.add(MaxPooling2D(pool_size=(2,2),strides=(2,2)))\n",
    "model.add(Dropout(0.4))\n",
    "\n",
    "#####\n",
    "model.add(BatchNormalization())\n",
    "model.add(Conv2D(filters=256, kernel_size=(3,3), padding=\"same\", activation=\"relu\"))\n",
    "model.add(BatchNormalization())\n",
    "model.add(Conv2D(filters=256, kernel_size=(3,3), padding=\"same\", activation=\"relu\"))\n",
    "model.add(BatchNormalization())\n",
    "model.add(Conv2D(filters=256, kernel_size=(3,3), padding=\"same\", activation=\"relu\"))\n",
    "model.add(BatchNormalization())\n",
    "model.add(Conv2D(filters=256, kernel_size=(3,3), padding=\"same\", activation=\"relu\"))\n",
    "model.add(MaxPooling2D(pool_size=(2,2),strides=(2,2)))\n",
    "model.add(Dropout(0.5))\n",
    "\n",
    "\n",
    "model.add(Flatten())\n",
    "\n",
    "model.add(Dense(units=512,activation=\"relu\"))\n",
    "model.add(BatchNormalization())\n",
    "model.add(Dense(7, activation='softmax'))\n",
    "\n",
    "#opt=SGD(lr=0.1, momentum=0.9)\n",
    "\n",
    "model.compile(loss='categorical_crossentropy', optimizer=tf.optimizers.Adam(learning_rate=1e-4), metrics=['acc'])"
   ]
  },
  {
   "cell_type": "code",
   "execution_count": 349,
   "id": "53cfd121",
   "metadata": {},
   "outputs": [
    {
     "name": "stdout",
     "output_type": "stream",
     "text": [
      "Model: \"sequential_4\"\n",
      "_________________________________________________________________\n",
      "Layer (type)                 Output Shape              Param #   \n",
      "=================================================================\n",
      "conv2d_48 (Conv2D)           (None, 28, 28, 32)        896       \n",
      "_________________________________________________________________\n",
      "batch_normalization_48 (Batc (None, 28, 28, 32)        128       \n",
      "_________________________________________________________________\n",
      "conv2d_49 (Conv2D)           (None, 28, 28, 32)        9248      \n",
      "_________________________________________________________________\n",
      "max_pooling2d_16 (MaxPooling (None, 14, 14, 32)        0         \n",
      "_________________________________________________________________\n",
      "dropout_16 (Dropout)         (None, 14, 14, 32)        0         \n",
      "_________________________________________________________________\n",
      "batch_normalization_49 (Batc (None, 14, 14, 32)        128       \n",
      "_________________________________________________________________\n",
      "conv2d_50 (Conv2D)           (None, 14, 14, 64)        18496     \n",
      "_________________________________________________________________\n",
      "batch_normalization_50 (Batc (None, 14, 14, 64)        256       \n",
      "_________________________________________________________________\n",
      "conv2d_51 (Conv2D)           (None, 14, 14, 64)        36928     \n",
      "_________________________________________________________________\n",
      "max_pooling2d_17 (MaxPooling (None, 7, 7, 64)          0         \n",
      "_________________________________________________________________\n",
      "dropout_17 (Dropout)         (None, 7, 7, 64)          0         \n",
      "_________________________________________________________________\n",
      "batch_normalization_51 (Batc (None, 7, 7, 64)          256       \n",
      "_________________________________________________________________\n",
      "conv2d_52 (Conv2D)           (None, 7, 7, 128)         73856     \n",
      "_________________________________________________________________\n",
      "batch_normalization_52 (Batc (None, 7, 7, 128)         512       \n",
      "_________________________________________________________________\n",
      "conv2d_53 (Conv2D)           (None, 7, 7, 128)         147584    \n",
      "_________________________________________________________________\n",
      "batch_normalization_53 (Batc (None, 7, 7, 128)         512       \n",
      "_________________________________________________________________\n",
      "conv2d_54 (Conv2D)           (None, 7, 7, 128)         147584    \n",
      "_________________________________________________________________\n",
      "batch_normalization_54 (Batc (None, 7, 7, 128)         512       \n",
      "_________________________________________________________________\n",
      "conv2d_55 (Conv2D)           (None, 7, 7, 128)         147584    \n",
      "_________________________________________________________________\n",
      "max_pooling2d_18 (MaxPooling (None, 3, 3, 128)         0         \n",
      "_________________________________________________________________\n",
      "dropout_18 (Dropout)         (None, 3, 3, 128)         0         \n",
      "_________________________________________________________________\n",
      "batch_normalization_55 (Batc (None, 3, 3, 128)         512       \n",
      "_________________________________________________________________\n",
      "conv2d_56 (Conv2D)           (None, 3, 3, 256)         295168    \n",
      "_________________________________________________________________\n",
      "batch_normalization_56 (Batc (None, 3, 3, 256)         1024      \n",
      "_________________________________________________________________\n",
      "conv2d_57 (Conv2D)           (None, 3, 3, 256)         590080    \n",
      "_________________________________________________________________\n",
      "batch_normalization_57 (Batc (None, 3, 3, 256)         1024      \n",
      "_________________________________________________________________\n",
      "conv2d_58 (Conv2D)           (None, 3, 3, 256)         590080    \n",
      "_________________________________________________________________\n",
      "batch_normalization_58 (Batc (None, 3, 3, 256)         1024      \n",
      "_________________________________________________________________\n",
      "conv2d_59 (Conv2D)           (None, 3, 3, 256)         590080    \n",
      "_________________________________________________________________\n",
      "max_pooling2d_19 (MaxPooling (None, 1, 1, 256)         0         \n",
      "_________________________________________________________________\n",
      "dropout_19 (Dropout)         (None, 1, 1, 256)         0         \n",
      "_________________________________________________________________\n",
      "flatten_4 (Flatten)          (None, 256)               0         \n",
      "_________________________________________________________________\n",
      "dense_8 (Dense)              (None, 512)               131584    \n",
      "_________________________________________________________________\n",
      "batch_normalization_59 (Batc (None, 512)               2048      \n",
      "_________________________________________________________________\n",
      "dense_9 (Dense)              (None, 7)                 3591      \n",
      "=================================================================\n",
      "Total params: 2,790,695\n",
      "Trainable params: 2,786,727\n",
      "Non-trainable params: 3,968\n",
      "_________________________________________________________________\n"
     ]
    }
   ],
   "source": [
    "model.summary()"
   ]
  },
  {
   "cell_type": "code",
   "execution_count": 350,
   "id": "b8200744",
   "metadata": {},
   "outputs": [],
   "source": [
    "MODEL_DIR='C:/Users/bella/Desktop/SelfStudy/캐글/skincancer/model/'\n",
    "if not os.path.exists(MODEL_DIR):\n",
    "    os.mkdir(MODEL_DIR)\n",
    "\n",
    "modelpath=\"C:/Users/bella/Desktop/SelfStudy/캐글/skincancer/model/{epoch:02d}-{val_loss:.4f}.hdf5\"\n",
    "checkpointer=ModelCheckpoint(filepath=modelpath, monitor='val_loss', verbose=1, save_best_only=True)\n",
    "early_stopping_callback=EarlyStopping(monitor='val_loss',patience=5) "
   ]
  },
  {
   "cell_type": "code",
   "execution_count": 351,
   "id": "e10e33d9",
   "metadata": {},
   "outputs": [
    {
     "name": "stdout",
     "output_type": "stream",
     "text": [
      "Epoch 1/30\n",
      "3748/3748 [==============================] - ETA: 0s - loss: 1.6542 - acc: 0.3796\n",
      "Epoch 00001: val_loss improved from inf to 3.11223, saving model to C:/Users/bella/Desktop/SelfStudy/캐글/skincancer/model\\01-3.1122.hdf5\n",
      "3748/3748 [==============================] - 2291s 611ms/step - loss: 1.6542 - acc: 0.3796 - val_loss: 3.1122 - val_acc: 0.1692\n",
      "Epoch 2/30\n",
      "3748/3748 [==============================] - ETA: 0s - loss: 1.2170 - acc: 0.5469\n",
      "Epoch 00002: val_loss improved from 3.11223 to 2.29239, saving model to C:/Users/bella/Desktop/SelfStudy/캐글/skincancer/model\\02-2.2924.hdf5\n",
      "3748/3748 [==============================] - 2309s 616ms/step - loss: 1.2170 - acc: 0.5469 - val_loss: 2.2924 - val_acc: 0.2991\n",
      "Epoch 3/30\n",
      "3748/3748 [==============================] - ETA: 0s - loss: 0.9695 - acc: 0.6496\n",
      "Epoch 00003: val_loss did not improve from 2.29239\n",
      "3748/3748 [==============================] - 2306s 615ms/step - loss: 0.9695 - acc: 0.6496 - val_loss: 2.3721 - val_acc: 0.2396\n",
      "Epoch 4/30\n",
      "3748/3748 [==============================] - ETA: 0s - loss: 0.7688 - acc: 0.7238\n",
      "Epoch 00004: val_loss improved from 2.29239 to 2.00739, saving model to C:/Users/bella/Desktop/SelfStudy/캐글/skincancer/model\\04-2.0074.hdf5\n",
      "3748/3748 [==============================] - 2515s 671ms/step - loss: 0.7688 - acc: 0.7238 - val_loss: 2.0074 - val_acc: 0.3784\n",
      "Epoch 5/30\n",
      "3748/3748 [==============================] - ETA: 0s - loss: 0.6373 - acc: 0.7733\n",
      "Epoch 00005: val_loss improved from 2.00739 to 1.52211, saving model to C:/Users/bella/Desktop/SelfStudy/캐글/skincancer/model\\05-1.5221.hdf5\n",
      "3748/3748 [==============================] - 2649s 707ms/step - loss: 0.6373 - acc: 0.7733 - val_loss: 1.5221 - val_acc: 0.4988\n",
      "Epoch 6/30\n",
      "3748/3748 [==============================] - ETA: 0s - loss: 0.5294 - acc: 0.8110\n",
      "Epoch 00006: val_loss improved from 1.52211 to 1.30848, saving model to C:/Users/bella/Desktop/SelfStudy/캐글/skincancer/model\\06-1.3085.hdf5\n",
      "3748/3748 [==============================] - 2677s 714ms/step - loss: 0.5294 - acc: 0.8110 - val_loss: 1.3085 - val_acc: 0.5342\n",
      "Epoch 7/30\n",
      "3748/3748 [==============================] - ETA: 0s - loss: 0.4688 - acc: 0.8322\n",
      "Epoch 00007: val_loss did not improve from 1.30848\n",
      "3748/3748 [==============================] - 2687s 717ms/step - loss: 0.4688 - acc: 0.8322 - val_loss: 1.5907 - val_acc: 0.4873\n",
      "Epoch 8/30\n",
      "3748/3748 [==============================] - ETA: 0s - loss: 0.4130 - acc: 0.8528\n",
      "Epoch 00008: val_loss did not improve from 1.30848\n",
      "3748/3748 [==============================] - 2504s 668ms/step - loss: 0.4130 - acc: 0.8528 - val_loss: 1.6553 - val_acc: 0.4074\n",
      "Epoch 9/30\n",
      "3748/3748 [==============================] - ETA: 0s - loss: 0.3663 - acc: 0.8693\n",
      "Epoch 00009: val_loss improved from 1.30848 to 1.17437, saving model to C:/Users/bella/Desktop/SelfStudy/캐글/skincancer/model\\09-1.1744.hdf5\n",
      "3748/3748 [==============================] - 2731s 729ms/step - loss: 0.3663 - acc: 0.8693 - val_loss: 1.1744 - val_acc: 0.5731\n",
      "Epoch 10/30\n",
      "3748/3748 [==============================] - ETA: 0s - loss: 0.3318 - acc: 0.8846\n",
      "Epoch 00010: val_loss did not improve from 1.17437\n",
      "3748/3748 [==============================] - 2342s 625ms/step - loss: 0.3318 - acc: 0.8846 - val_loss: 1.2523 - val_acc: 0.5706\n",
      "Epoch 11/30\n",
      "3748/3748 [==============================] - ETA: 0s - loss: 0.3027 - acc: 0.8930\n",
      "Epoch 00011: val_loss did not improve from 1.17437\n",
      "3748/3748 [==============================] - 2330s 622ms/step - loss: 0.3027 - acc: 0.8930 - val_loss: 1.3280 - val_acc: 0.5671\n",
      "Epoch 12/30\n",
      "3748/3748 [==============================] - ETA: 0s - loss: 0.2834 - acc: 0.9012\n",
      "Epoch 00012: val_loss did not improve from 1.17437\n",
      "3748/3748 [==============================] - 2485s 663ms/step - loss: 0.2834 - acc: 0.9012 - val_loss: 1.2862 - val_acc: 0.5592\n",
      "Epoch 13/30\n",
      "3748/3748 [==============================] - ETA: 0s - loss: 0.2587 - acc: 0.9092\n",
      "Epoch 00013: val_loss did not improve from 1.17437\n",
      "3748/3748 [==============================] - 2544s 679ms/step - loss: 0.2587 - acc: 0.9092 - val_loss: 1.2157 - val_acc: 0.5851\n",
      "Epoch 14/30\n",
      "3748/3748 [==============================] - ETA: 0s - loss: 0.2424 - acc: 0.9144\n",
      "Epoch 00014: val_loss did not improve from 1.17437\n",
      "3748/3748 [==============================] - 2580s 688ms/step - loss: 0.2424 - acc: 0.9144 - val_loss: 1.3724 - val_acc: 0.5597\n",
      "Wall time: 9h 42min 39s\n"
     ]
    }
   ],
   "source": [
    "%%time\n",
    "history=model.fit(x_train, y_train, batch_size=10, epochs=30, validation_data=(x_test,y_test), callbacks=[early_stopping_callback, checkpointer])"
   ]
  },
  {
   "cell_type": "code",
   "execution_count": 352,
   "id": "9b10a63c",
   "metadata": {},
   "outputs": [
    {
     "data": {
      "text/plain": [
       "dict_keys(['loss', 'acc', 'val_loss', 'val_acc'])"
      ]
     },
     "execution_count": 352,
     "metadata": {},
     "output_type": "execute_result"
    }
   ],
   "source": [
    "history.history.keys()"
   ]
  },
  {
   "cell_type": "code",
   "execution_count": 353,
   "id": "d20e36e1",
   "metadata": {},
   "outputs": [
    {
     "name": "stdout",
     "output_type": "stream",
     "text": [
      "1172/1172 [==============================] - 1263s 1s/step - loss: 0.1355 - acc: 0.9535\n",
      "\n",
      " Train Accuracy 0.9535\n"
     ]
    }
   ],
   "source": [
    "print(\"\\n Train Accuracy %.4f\"%(model.evaluate(x_train, y_train)[1]))"
   ]
  },
  {
   "cell_type": "code",
   "execution_count": 354,
   "id": "e5c38ed4",
   "metadata": {},
   "outputs": [
    {
     "name": "stdout",
     "output_type": "stream",
     "text": [
      "63/63 [==============================] - 70s 1s/step - loss: 1.3724 - acc: 0.5597\n",
      "\n",
      " Test Accuracy 0.5597\n"
     ]
    }
   ],
   "source": [
    "print(\"\\n Test Accuracy %.4f\"%(model.evaluate(x_test, y_test)[1]))"
   ]
  },
  {
   "cell_type": "markdown",
   "id": "e11182a4",
   "metadata": {},
   "source": [
    "- 과적합 현상이 일어남"
   ]
  },
  {
   "cell_type": "code",
   "execution_count": 355,
   "id": "7db35272",
   "metadata": {},
   "outputs": [
    {
     "data": {
      "image/png": "[encoded data removed]",
      "text/plain": [
       "<Figure size 720x360 with 2 Axes>"
      ]
     },
     "metadata": {},
     "output_type": "display_data"
    }
   ],
   "source": [
    "his_dict = history.history\n",
    "loss = his_dict['loss']\n",
    "val_loss = his_dict['val_loss'] # 검증 데이터가 있는 경우 val_ 수식어가 붙는다.\n",
    "\n",
    "epochs = range(1,len(loss)+1 )\n",
    "fig = plt.figure(figsize= (10,5) )\n",
    "\n",
    "# 학습 및 검증 손실 그리기\n",
    "\n",
    "ax1 = fig.add_subplot(1,2,1)\n",
    "ax1.plot(epochs, loss, color = 'blue', label = 'train_loss')\n",
    "ax1.plot(epochs, val_loss, color = 'orange', label = 'val_loss')\n",
    "ax1.set_title('train and val loss')\n",
    "ax1.set_xlabel('epochs')\n",
    "ax1.set_ylabel('loss')\n",
    "ax1.legend()\n",
    "\n",
    "acc = his_dict['acc']\n",
    "val_acc = his_dict['val_acc']\n",
    "\n",
    "# 학습 및 검증 정확도 그리기\n",
    "ax2 = fig.add_subplot(1,2,2)\n",
    "ax2.plot(epochs, acc, color = 'blue', label = 'acc')\n",
    "ax2.plot(epochs, val_acc, color = 'orange', label = 'val_acc')\n",
    "ax2.set_title('train and val acc')\n",
    "ax2.set_xlabel('epochs')\n",
    "ax2.set_ylabel('loss')\n",
    "ax2.legend()\n",
    "\n",
    "plt.show()"
   ]
  },
  {
   "cell_type": "code",
   "execution_count": 356,
   "id": "58b49f70",
   "metadata": {},
   "outputs": [],
   "source": [
    "model.save('model_1.h5')\n",
    "y_pred=model.predict(x_test)\n",
    "model_acc=model.evaluate(x_test, y_test, verbose=0)[1]\n",
    "y_pred=np.array(list(map(lambda x:np.argmax(x), y_pred)))\n",
    "label_mapping={ 4:'nv', 6:'mel', 2:'bkl', 1:'bcc', 0:'akiec', 5:'vasc', 3:'df' }"
   ]
  },
  {
   "cell_type": "code",
   "execution_count": 357,
   "id": "ad35938e",
   "metadata": {},
   "outputs": [],
   "source": [
    "y_test_1=pd.DataFrame(y_test)\n",
    "y_test_1['answer']=0"
   ]
  },
  {
   "cell_type": "code",
   "execution_count": 358,
   "id": "318170ff",
   "metadata": {},
   "outputs": [
    {
     "name": "stderr",
     "output_type": "stream",
     "text": [
      "100%|██████████| 2003/2003 [00:01<00:00, 1331.87it/s]\n"
     ]
    }
   ],
   "source": [
    "for i in tqdm(range(0,2003)):\n",
    "    for j in range(0,7):\n",
    "        if y_test_1.iloc[i, j]==1:\n",
    "            y_test_1['answer'][i]=j"
   ]
  },
  {
   "cell_type": "code",
   "execution_count": 359,
   "id": "d77831dd",
   "metadata": {},
   "outputs": [
    {
     "data": {
      "text/html": [
       "<div>\n",
       "<style scoped>\n",
       "    .dataframe tbody tr th:only-of-type {\n",
       "        vertical-align: middle;\n",
       "    }\n",
       "\n",
       "    .dataframe tbody tr th {\n",
       "        vertical-align: top;\n",
       "    }\n",
       "\n",
       "    .dataframe thead th {\n",
       "        text-align: right;\n",
       "    }\n",
       "</style>\n",
       "<table border=\"1\" class=\"dataframe\">\n",
       "  <thead>\n",
       "    <tr style=\"text-align: right;\">\n",
       "      <th></th>\n",
       "      <th>0</th>\n",
       "      <th>1</th>\n",
       "      <th>2</th>\n",
       "      <th>3</th>\n",
       "      <th>4</th>\n",
       "      <th>5</th>\n",
       "      <th>6</th>\n",
       "      <th>answer</th>\n",
       "    </tr>\n",
       "  </thead>\n",
       "  <tbody>\n",
       "    <tr>\n",
       "      <th>0</th>\n",
       "      <td>0.0</td>\n",
       "      <td>0.0</td>\n",
       "      <td>0.0</td>\n",
       "      <td>0.0</td>\n",
       "      <td>1.0</td>\n",
       "      <td>0.0</td>\n",
       "      <td>0.0</td>\n",
       "      <td>4</td>\n",
       "    </tr>\n",
       "    <tr>\n",
       "      <th>1</th>\n",
       "      <td>0.0</td>\n",
       "      <td>0.0</td>\n",
       "      <td>0.0</td>\n",
       "      <td>0.0</td>\n",
       "      <td>1.0</td>\n",
       "      <td>0.0</td>\n",
       "      <td>0.0</td>\n",
       "      <td>4</td>\n",
       "    </tr>\n",
       "    <tr>\n",
       "      <th>2</th>\n",
       "      <td>0.0</td>\n",
       "      <td>0.0</td>\n",
       "      <td>0.0</td>\n",
       "      <td>0.0</td>\n",
       "      <td>1.0</td>\n",
       "      <td>0.0</td>\n",
       "      <td>0.0</td>\n",
       "      <td>4</td>\n",
       "    </tr>\n",
       "    <tr>\n",
       "      <th>3</th>\n",
       "      <td>0.0</td>\n",
       "      <td>0.0</td>\n",
       "      <td>0.0</td>\n",
       "      <td>0.0</td>\n",
       "      <td>1.0</td>\n",
       "      <td>0.0</td>\n",
       "      <td>0.0</td>\n",
       "      <td>4</td>\n",
       "    </tr>\n",
       "    <tr>\n",
       "      <th>4</th>\n",
       "      <td>0.0</td>\n",
       "      <td>1.0</td>\n",
       "      <td>0.0</td>\n",
       "      <td>0.0</td>\n",
       "      <td>0.0</td>\n",
       "      <td>0.0</td>\n",
       "      <td>0.0</td>\n",
       "      <td>1</td>\n",
       "    </tr>\n",
       "    <tr>\n",
       "      <th>...</th>\n",
       "      <td>...</td>\n",
       "      <td>...</td>\n",
       "      <td>...</td>\n",
       "      <td>...</td>\n",
       "      <td>...</td>\n",
       "      <td>...</td>\n",
       "      <td>...</td>\n",
       "      <td>...</td>\n",
       "    </tr>\n",
       "    <tr>\n",
       "      <th>1998</th>\n",
       "      <td>0.0</td>\n",
       "      <td>0.0</td>\n",
       "      <td>0.0</td>\n",
       "      <td>0.0</td>\n",
       "      <td>1.0</td>\n",
       "      <td>0.0</td>\n",
       "      <td>0.0</td>\n",
       "      <td>4</td>\n",
       "    </tr>\n",
       "    <tr>\n",
       "      <th>1999</th>\n",
       "      <td>0.0</td>\n",
       "      <td>0.0</td>\n",
       "      <td>0.0</td>\n",
       "      <td>0.0</td>\n",
       "      <td>0.0</td>\n",
       "      <td>0.0</td>\n",
       "      <td>1.0</td>\n",
       "      <td>6</td>\n",
       "    </tr>\n",
       "    <tr>\n",
       "      <th>2000</th>\n",
       "      <td>0.0</td>\n",
       "      <td>0.0</td>\n",
       "      <td>0.0</td>\n",
       "      <td>0.0</td>\n",
       "      <td>1.0</td>\n",
       "      <td>0.0</td>\n",
       "      <td>0.0</td>\n",
       "      <td>4</td>\n",
       "    </tr>\n",
       "    <tr>\n",
       "      <th>2001</th>\n",
       "      <td>0.0</td>\n",
       "      <td>0.0</td>\n",
       "      <td>0.0</td>\n",
       "      <td>0.0</td>\n",
       "      <td>1.0</td>\n",
       "      <td>0.0</td>\n",
       "      <td>0.0</td>\n",
       "      <td>4</td>\n",
       "    </tr>\n",
       "    <tr>\n",
       "      <th>2002</th>\n",
       "      <td>0.0</td>\n",
       "      <td>0.0</td>\n",
       "      <td>0.0</td>\n",
       "      <td>0.0</td>\n",
       "      <td>1.0</td>\n",
       "      <td>0.0</td>\n",
       "      <td>0.0</td>\n",
       "      <td>4</td>\n",
       "    </tr>\n",
       "  </tbody>\n",
       "</table>\n",
       "<p>2003 rows × 8 columns</p>\n",
       "</div>"
      ],
      "text/plain": [
       "        0    1    2    3    4    5    6  answer\n",
       "0     0.0  0.0  0.0  0.0  1.0  0.0  0.0       4\n",
       "1     0.0  0.0  0.0  0.0  1.0  0.0  0.0       4\n",
       "2     0.0  0.0  0.0  0.0  1.0  0.0  0.0       4\n",
       "3     0.0  0.0  0.0  0.0  1.0  0.0  0.0       4\n",
       "4     0.0  1.0  0.0  0.0  0.0  0.0  0.0       1\n",
       "...   ...  ...  ...  ...  ...  ...  ...     ...\n",
       "1998  0.0  0.0  0.0  0.0  1.0  0.0  0.0       4\n",
       "1999  0.0  0.0  0.0  0.0  0.0  0.0  1.0       6\n",
       "2000  0.0  0.0  0.0  0.0  1.0  0.0  0.0       4\n",
       "2001  0.0  0.0  0.0  0.0  1.0  0.0  0.0       4\n",
       "2002  0.0  0.0  0.0  0.0  1.0  0.0  0.0       4\n",
       "\n",
       "[2003 rows x 8 columns]"
      ]
     },
     "execution_count": 359,
     "metadata": {},
     "output_type": "execute_result"
    }
   ],
   "source": [
    "y_test_1"
   ]
  },
  {
   "cell_type": "code",
   "execution_count": 360,
   "id": "11ac4ddc",
   "metadata": {},
   "outputs": [
    {
     "name": "stdout",
     "output_type": "stream",
     "text": [
      "(2003,)\n",
      "(2003,)\n"
     ]
    }
   ],
   "source": [
    "y_true=np.array(y_test_1['answer'])\n",
    "print(y_true.shape)\n",
    "print(y_pred.shape)"
   ]
  },
  {
   "cell_type": "code",
   "execution_count": 361,
   "id": "f0a5785d",
   "metadata": {},
   "outputs": [
    {
     "name": "stdout",
     "output_type": "stream",
     "text": [
      "              precision    recall  f1-score   support\n",
      "\n",
      "           0       0.32      0.46      0.38        61\n",
      "           1       0.43      0.66      0.52       111\n",
      "           2       0.21      0.76      0.33       198\n",
      "           3       0.34      0.66      0.45        29\n",
      "           4       0.95      0.56      0.71      1351\n",
      "           5       0.84      0.87      0.85        30\n",
      "           6       0.42      0.29      0.34       223\n",
      "\n",
      "    accuracy                           0.56      2003\n",
      "   macro avg       0.50      0.61      0.51      2003\n",
      "weighted avg       0.76      0.56      0.61      2003\n",
      "\n"
     ]
    }
   ],
   "source": [
    "auc_roc=metrics.classification_report(y_true, y_pred)\n",
    "print(auc_roc)"
   ]
  },
  {
   "cell_type": "code",
   "execution_count": 362,
   "id": "15cbe64b",
   "metadata": {},
   "outputs": [],
   "source": [
    "mul=multilabel_confusion_matrix(y_true, y_pred)"
   ]
  },
  {
   "cell_type": "code",
   "execution_count": 363,
   "id": "816bd76c",
   "metadata": {},
   "outputs": [
    {
     "name": "stdout",
     "output_type": "stream",
     "text": [
      "akiec\n",
      "      0   1\n",
      "0  1882  60\n",
      "1    33  28\n",
      "bcc\n",
      "      0   1\n",
      "0  1794  98\n",
      "1    38  73\n",
      "bkl\n",
      "      0    1\n",
      "0  1252  553\n",
      "1    47  151\n",
      "df\n",
      "      0   1\n",
      "0  1937  37\n",
      "1    10  19\n",
      "nv\n",
      "     0    1\n",
      "0  613   39\n",
      "1  592  759\n",
      "vasc\n",
      "      0   1\n",
      "0  1968   5\n",
      "1     4  26\n",
      "mel\n",
      "      0   1\n",
      "0  1690  90\n",
      "1   158  65\n"
     ]
    }
   ],
   "source": [
    "label=['akiec', 'bcc','bkl','df','nv','vasc','mel']\n",
    "for i in range(7):\n",
    "    con_mul=pd.DataFrame(mul[i])\n",
    "    print(label[i])\n",
    "    print(con_mul)"
   ]
  },
  {
   "cell_type": "code",
   "execution_count": 364,
   "id": "ffa46942",
   "metadata": {},
   "outputs": [
    {
     "name": "stdout",
     "output_type": "stream",
     "text": [
      "akiec\n"
     ]
    },
    {
     "data": {
      "image/png": "[encoded data removed]",
      "text/plain": [
       "<Figure size 432x288 with 2 Axes>"
      ]
     },
     "metadata": {},
     "output_type": "display_data"
    },
    {
     "name": "stdout",
     "output_type": "stream",
     "text": [
      "bcc\n"
     ]
    },
    {
     "data": {
      "image/png": "[encoded data removed]",
      "text/plain": [
       "<Figure size 432x288 with 2 Axes>"
      ]
     },
     "metadata": {},
     "output_type": "display_data"
    },
    {
     "name": "stdout",
     "output_type": "stream",
     "text": [
      "bkl\n"
     ]
    },
    {
     "data": {
      "image/png": "[encoded data removed]",
      "text/plain": [
       "<Figure size 432x288 with 2 Axes>"
      ]
     },
     "metadata": {},
     "output_type": "display_data"
    },
    {
     "name": "stdout",
     "output_type": "stream",
     "text": [
      "df\n"
     ]
    },
    {
     "data": {
      "image/png": "[encoded data removed]",
      "text/plain": [
       "<Figure size 432x288 with 2 Axes>"
      ]
     },
     "metadata": {},
     "output_type": "display_data"
    },
    {
     "name": "stdout",
     "output_type": "stream",
     "text": [
      "nv\n"
     ]
    },
    {
     "data": {
      "image/png": "[encoded data removed]",
      "text/plain": [
       "<Figure size 432x288 with 2 Axes>"
      ]
     },
     "metadata": {},
     "output_type": "display_data"
    },
    {
     "name": "stdout",
     "output_type": "stream",
     "text": [
      "vasc\n"
     ]
    },
    {
     "data": {
      "image/png": "[encoded data removed]",
      "text/plain": [
       "<Figure size 432x288 with 2 Axes>"
      ]
     },
     "metadata": {},
     "output_type": "display_data"
    },
    {
     "name": "stdout",
     "output_type": "stream",
     "text": [
      "mel\n"
     ]
    },
    {
     "data": {
      "image/png": "[encoded data removed]",
      "text/plain": [
       "<Figure size 432x288 with 2 Axes>"
      ]
     },
     "metadata": {},
     "output_type": "display_data"
    }
   ],
   "source": [
    "for i in range(7):\n",
    "    con_mul=pd.DataFrame(mul[i])\n",
    "    print(label[i])\n",
    "    sns.heatmap(con_mul, annot=True, cmap=\"summer\")\n",
    "    plt.show()"
   ]
  },
  {
   "cell_type": "markdown",
   "id": "13a50586",
   "metadata": {},
   "source": [
    "- 오히려 결과가 더 안 좋아진 것을 확인 할 수 있다."
   ]
  },
  {
   "cell_type": "markdown",
   "id": "6a668f70",
   "metadata": {},
   "source": [
    "Modeling4 (+StratifiedKFold)\n",
    "--"
   ]
  },
  {
   "cell_type": "code",
   "execution_count": 295,
   "id": "cfb27ff3",
   "metadata": {},
   "outputs": [],
   "source": [
    "seed=0\n",
    "np.random.seed(seed)\n",
    "tf.random.set_seed(seed)"
   ]
  },
  {
   "cell_type": "code",
   "execution_count": 296,
   "id": "9a198158",
   "metadata": {},
   "outputs": [],
   "source": [
    "from sklearn.model_selection import StratifiedKFold\n",
    "\n",
    "n_fold=10\n",
    "skf=StratifiedKFold(n_splits=n_fold, shuffle=True, random_state=0)"
   ]
  },
  {
   "cell_type": "code",
   "execution_count": 310,
   "id": "026693e5",
   "metadata": {},
   "outputs": [],
   "source": [
    "#%%time\n",
    "#accuracy=[]\n",
    "\n",
    "#for train, test in skf.split(x_train, y_train):\n",
    "#    model = Sequential()\n",
    "#    model.add(Conv2D(input_shape=(28,28,3),filters=32,kernel_size=(3,3),padding=\"same\", activation=\"relu\"))\n",
    "#    #####\n",
    "#    model.add(BatchNormalization())\n",
    "#    model.add(Conv2D(filters=32,kernel_size=(3,3),padding=\"same\", activation=\"relu\"))\n",
    "#    model.add(MaxPooling2D(pool_size=(2,2),strides=(2,2)))\n",
    "#    model.add(Dropout(0.2))\n",
    "#    #####\n",
    "#\n",
    "#    #####\n",
    "#    model.add(BatchNormalization())\n",
    "#    model.add(Conv2D(filters=64, kernel_size=(3,3), padding=\"same\", activation=\"relu\"))\n",
    "#    model.add(BatchNormalization())\n",
    "#    model.add(Conv2D(filters=64, kernel_size=(3,3), padding=\"same\", activation=\"relu\"))\n",
    "#    model.add(MaxPooling2D(pool_size=(2,2),strides=(2,2)))\n",
    "#    model.add(Dropout(0.3))\n",
    "#    #####\n",
    "#    \n",
    "#    model.add(BatchNormalization())\n",
    "#    model.add(Conv2D(filters=128, kernel_size=(3,3), padding=\"same\", activation=\"relu\"))\n",
    "#    model.add(BatchNormalization())\n",
    "#    model.add(Conv2D(filters=128, kernel_size=(3,3), padding=\"same\", activation=\"relu\"))\n",
    "#    model.add(BatchNormalization())\n",
    "#    model.add(Conv2D(filters=128, kernel_size=(3,3), padding=\"same\", activation=\"relu\"))\n",
    "#    model.add(BatchNormalization())\n",
    "#    model.add(Conv2D(filters=128, kernel_size=(3,3), padding=\"same\", activation=\"relu\"))\n",
    "#    model.add(MaxPooling2D(pool_size=(2,2),strides=(2,2)))\n",
    "#    model.add(Dropout(0.4))\n",
    "#    #####\n",
    "#    model.add(BatchNormalization())\n",
    "#    model.add(Conv2D(filters=256, kernel_size=(3,3), padding=\"same\", activation=\"relu\"))\n",
    "#    model.add(BatchNormalization())\n",
    "#    model.add(Conv2D(filters=256, kernel_size=(3,3), padding=\"same\", activation=\"relu\"))\n",
    "#    model.add(BatchNormalization())\n",
    "#    model.add(Conv2D(filters=256, kernel_size=(3,3), padding=\"same\", activation=\"relu\"))\n",
    "#    model.add(BatchNormalization())\n",
    "#    model.add(Conv2D(filters=256, kernel_size=(3,3), padding=\"same\", activation=\"relu\"))\n",
    "#    model.add(MaxPooling2D(pool_size=(2,2),strides=(2,2)))\n",
    "#    model.add(Dropout(0.5))\n",
    "#    \n",
    "#    model.add(Flatten())\n",
    "#    model.add(Dense(units=512,activation=\"relu\"))\n",
    "#    model.add(BatchNormalization())\n",
    "#    model.add(Dense(7, activation='softmax'))\n",
    "#    \n",
    "#    #opt=SGD(lr=0.1, momentum=0.9)\n",
    "#    model.compile(loss='sparse_categorical_crossentropy', optimizer=tf.optimizers.Adam(learning_rate=1e-4), metrics=['sparse_categorical_accuracy'])\n",
    "#    model.fit(x_train[train], y_train[train], batch_size=10, epochs=30)\n",
    "#    k_accuracy=\"%.4f\"%(model.evaluate(x_train[test], y_train[test])[1])\n",
    "#    accuracy.append(k_accuracy)    "
   ]
  },
  {
   "attachments": {
    "image.png": {
     "image/png": "[encoded data removed]"
    }
   },
   "cell_type": "markdown",
   "id": "2d598073",
   "metadata": {},
   "source": [
    "![image.png](attachment:image.png)"
   ]
  },
  {
   "cell_type": "markdown",
   "id": "9eb45625",
   "metadata": {},
   "source": [
    "- 너무 오래걸리므로 중단"
   ]
  }
 ],
 "metadata": {
  "kernelspec": {
   "display_name": "Python 3",
   "language": "python",
   "name": "python3"
  },
  "language_info": {
   "codemirror_mode": {
    "name": "ipython",
    "version": 3
   },
   "file_extension": ".py",
   "mimetype": "text/x-python",
   "name": "python",
   "nbconvert_exporter": "python",
   "pygments_lexer": "ipython3",
   "version": "3.8.8"
  }
 },
 "nbformat": 4,
 "nbformat_minor": 5
}
